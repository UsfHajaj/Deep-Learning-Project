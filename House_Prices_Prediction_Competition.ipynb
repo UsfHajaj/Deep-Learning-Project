{
 "cells": [
  {
   "cell_type": "code",
   "execution_count": 1,
   "id": "69613fe0",
   "metadata": {
    "_cell_guid": "b1076dfc-b9ad-4769-8c92-a6c4dae69d19",
    "_uuid": "8f2839f25d086af736a60e9eeb907d3b93b6e0e5",
    "execution": {
     "iopub.execute_input": "2023-09-04T09:50:00.993816Z",
     "iopub.status.busy": "2023-09-04T09:50:00.992923Z",
     "iopub.status.idle": "2023-09-04T09:50:01.422296Z",
     "shell.execute_reply": "2023-09-04T09:50:01.420593Z"
    },
    "papermill": {
     "duration": 0.450455,
     "end_time": "2023-09-04T09:50:01.425325",
     "exception": false,
     "start_time": "2023-09-04T09:50:00.974870",
     "status": "completed"
    },
    "tags": []
   },
   "outputs": [
    {
     "name": "stdout",
     "output_type": "stream",
     "text": [
      "/kaggle/input/home-data-for-ml-course/sample_submission.csv\n",
      "/kaggle/input/home-data-for-ml-course/sample_submission.csv.gz\n",
      "/kaggle/input/home-data-for-ml-course/train.csv.gz\n",
      "/kaggle/input/home-data-for-ml-course/data_description.txt\n",
      "/kaggle/input/home-data-for-ml-course/test.csv.gz\n",
      "/kaggle/input/home-data-for-ml-course/train.csv\n",
      "/kaggle/input/home-data-for-ml-course/test.csv\n"
     ]
    }
   ],
   "source": [
    "# This Python 3 environment comes with many helpful analytics libraries installed\n",
    "# It is defined by the kaggle/python Docker image: https://github.com/kaggle/docker-python\n",
    "# For example, here's several helpful packages to load\n",
    "\n",
    "import numpy as np # linear algebra\n",
    "import pandas as pd # data processing, CSV file I/O (e.g. pd.read_csv)\n",
    "\n",
    "# Input data files are available in the read-only \"../input/\" directory\n",
    "# For example, running this (by clicking run or pressing Shift+Enter) will list all files under the input directory\n",
    "\n",
    "import os\n",
    "for dirname, _, filenames in os.walk('/kaggle/input'):\n",
    "    for filename in filenames:\n",
    "        print(os.path.join(dirname, filename))\n",
    "\n",
    "# You can write up to 20GB to the current directory (/kaggle/working/) that gets preserved as output when you create a version using \"Save & Run All\" \n",
    "# You can also write temporary files to /kaggle/temp/, but they won't be saved outside of the current session"
   ]
  },
  {
   "cell_type": "code",
   "execution_count": 2,
   "id": "f1478379",
   "metadata": {
    "execution": {
     "iopub.execute_input": "2023-09-04T09:50:01.460813Z",
     "iopub.status.busy": "2023-09-04T09:50:01.460105Z",
     "iopub.status.idle": "2023-09-04T09:50:03.131715Z",
     "shell.execute_reply": "2023-09-04T09:50:03.130526Z"
    },
    "papermill": {
     "duration": 1.692447,
     "end_time": "2023-09-04T09:50:03.134661",
     "exception": false,
     "start_time": "2023-09-04T09:50:01.442214",
     "status": "completed"
    },
    "tags": []
   },
   "outputs": [],
   "source": [
    "import os\n",
    "import matplotlib.pyplot as plt\n",
    "import seaborn as sns \n",
    "%matplotlib inline"
   ]
  },
  {
   "cell_type": "code",
   "execution_count": 3,
   "id": "b35d83a9",
   "metadata": {
    "execution": {
     "iopub.execute_input": "2023-09-04T09:50:03.166117Z",
     "iopub.status.busy": "2023-09-04T09:50:03.165639Z",
     "iopub.status.idle": "2023-09-04T09:50:03.244616Z",
     "shell.execute_reply": "2023-09-04T09:50:03.243167Z"
    },
    "papermill": {
     "duration": 0.098738,
     "end_time": "2023-09-04T09:50:03.248127",
     "exception": false,
     "start_time": "2023-09-04T09:50:03.149389",
     "status": "completed"
    },
    "tags": []
   },
   "outputs": [],
   "source": [
    "train_path='/kaggle/input/home-data-for-ml-course/train.csv'\n",
    "test_path='/kaggle/input/home-data-for-ml-course/test.csv'\n",
    "train_data=pd.read_csv(train_path)\n",
    "test_data=pd.read_csv(test_path)"
   ]
  },
  {
   "cell_type": "code",
   "execution_count": 4,
   "id": "2dd3ae4e",
   "metadata": {
    "execution": {
     "iopub.execute_input": "2023-09-04T09:50:03.281401Z",
     "iopub.status.busy": "2023-09-04T09:50:03.279973Z",
     "iopub.status.idle": "2023-09-04T09:50:03.318130Z",
     "shell.execute_reply": "2023-09-04T09:50:03.316616Z"
    },
    "papermill": {
     "duration": 0.058639,
     "end_time": "2023-09-04T09:50:03.321777",
     "exception": false,
     "start_time": "2023-09-04T09:50:03.263138",
     "status": "completed"
    },
    "tags": []
   },
   "outputs": [
    {
     "data": {
      "text/html": [
       "<div>\n",
       "<style scoped>\n",
       "    .dataframe tbody tr th:only-of-type {\n",
       "        vertical-align: middle;\n",
       "    }\n",
       "\n",
       "    .dataframe tbody tr th {\n",
       "        vertical-align: top;\n",
       "    }\n",
       "\n",
       "    .dataframe thead th {\n",
       "        text-align: right;\n",
       "    }\n",
       "</style>\n",
       "<table border=\"1\" class=\"dataframe\">\n",
       "  <thead>\n",
       "    <tr style=\"text-align: right;\">\n",
       "      <th></th>\n",
       "      <th>Id</th>\n",
       "      <th>MSSubClass</th>\n",
       "      <th>MSZoning</th>\n",
       "      <th>LotFrontage</th>\n",
       "      <th>LotArea</th>\n",
       "      <th>Street</th>\n",
       "      <th>Alley</th>\n",
       "      <th>LotShape</th>\n",
       "      <th>LandContour</th>\n",
       "      <th>Utilities</th>\n",
       "      <th>...</th>\n",
       "      <th>PoolArea</th>\n",
       "      <th>PoolQC</th>\n",
       "      <th>Fence</th>\n",
       "      <th>MiscFeature</th>\n",
       "      <th>MiscVal</th>\n",
       "      <th>MoSold</th>\n",
       "      <th>YrSold</th>\n",
       "      <th>SaleType</th>\n",
       "      <th>SaleCondition</th>\n",
       "      <th>SalePrice</th>\n",
       "    </tr>\n",
       "  </thead>\n",
       "  <tbody>\n",
       "    <tr>\n",
       "      <th>0</th>\n",
       "      <td>1</td>\n",
       "      <td>60</td>\n",
       "      <td>RL</td>\n",
       "      <td>65.0</td>\n",
       "      <td>8450</td>\n",
       "      <td>Pave</td>\n",
       "      <td>NaN</td>\n",
       "      <td>Reg</td>\n",
       "      <td>Lvl</td>\n",
       "      <td>AllPub</td>\n",
       "      <td>...</td>\n",
       "      <td>0</td>\n",
       "      <td>NaN</td>\n",
       "      <td>NaN</td>\n",
       "      <td>NaN</td>\n",
       "      <td>0</td>\n",
       "      <td>2</td>\n",
       "      <td>2008</td>\n",
       "      <td>WD</td>\n",
       "      <td>Normal</td>\n",
       "      <td>208500</td>\n",
       "    </tr>\n",
       "    <tr>\n",
       "      <th>1</th>\n",
       "      <td>2</td>\n",
       "      <td>20</td>\n",
       "      <td>RL</td>\n",
       "      <td>80.0</td>\n",
       "      <td>9600</td>\n",
       "      <td>Pave</td>\n",
       "      <td>NaN</td>\n",
       "      <td>Reg</td>\n",
       "      <td>Lvl</td>\n",
       "      <td>AllPub</td>\n",
       "      <td>...</td>\n",
       "      <td>0</td>\n",
       "      <td>NaN</td>\n",
       "      <td>NaN</td>\n",
       "      <td>NaN</td>\n",
       "      <td>0</td>\n",
       "      <td>5</td>\n",
       "      <td>2007</td>\n",
       "      <td>WD</td>\n",
       "      <td>Normal</td>\n",
       "      <td>181500</td>\n",
       "    </tr>\n",
       "    <tr>\n",
       "      <th>2</th>\n",
       "      <td>3</td>\n",
       "      <td>60</td>\n",
       "      <td>RL</td>\n",
       "      <td>68.0</td>\n",
       "      <td>11250</td>\n",
       "      <td>Pave</td>\n",
       "      <td>NaN</td>\n",
       "      <td>IR1</td>\n",
       "      <td>Lvl</td>\n",
       "      <td>AllPub</td>\n",
       "      <td>...</td>\n",
       "      <td>0</td>\n",
       "      <td>NaN</td>\n",
       "      <td>NaN</td>\n",
       "      <td>NaN</td>\n",
       "      <td>0</td>\n",
       "      <td>9</td>\n",
       "      <td>2008</td>\n",
       "      <td>WD</td>\n",
       "      <td>Normal</td>\n",
       "      <td>223500</td>\n",
       "    </tr>\n",
       "    <tr>\n",
       "      <th>3</th>\n",
       "      <td>4</td>\n",
       "      <td>70</td>\n",
       "      <td>RL</td>\n",
       "      <td>60.0</td>\n",
       "      <td>9550</td>\n",
       "      <td>Pave</td>\n",
       "      <td>NaN</td>\n",
       "      <td>IR1</td>\n",
       "      <td>Lvl</td>\n",
       "      <td>AllPub</td>\n",
       "      <td>...</td>\n",
       "      <td>0</td>\n",
       "      <td>NaN</td>\n",
       "      <td>NaN</td>\n",
       "      <td>NaN</td>\n",
       "      <td>0</td>\n",
       "      <td>2</td>\n",
       "      <td>2006</td>\n",
       "      <td>WD</td>\n",
       "      <td>Abnorml</td>\n",
       "      <td>140000</td>\n",
       "    </tr>\n",
       "    <tr>\n",
       "      <th>4</th>\n",
       "      <td>5</td>\n",
       "      <td>60</td>\n",
       "      <td>RL</td>\n",
       "      <td>84.0</td>\n",
       "      <td>14260</td>\n",
       "      <td>Pave</td>\n",
       "      <td>NaN</td>\n",
       "      <td>IR1</td>\n",
       "      <td>Lvl</td>\n",
       "      <td>AllPub</td>\n",
       "      <td>...</td>\n",
       "      <td>0</td>\n",
       "      <td>NaN</td>\n",
       "      <td>NaN</td>\n",
       "      <td>NaN</td>\n",
       "      <td>0</td>\n",
       "      <td>12</td>\n",
       "      <td>2008</td>\n",
       "      <td>WD</td>\n",
       "      <td>Normal</td>\n",
       "      <td>250000</td>\n",
       "    </tr>\n",
       "  </tbody>\n",
       "</table>\n",
       "<p>5 rows × 81 columns</p>\n",
       "</div>"
      ],
      "text/plain": [
       "   Id  MSSubClass MSZoning  LotFrontage  LotArea Street Alley LotShape  \\\n",
       "0   1          60       RL         65.0     8450   Pave   NaN      Reg   \n",
       "1   2          20       RL         80.0     9600   Pave   NaN      Reg   \n",
       "2   3          60       RL         68.0    11250   Pave   NaN      IR1   \n",
       "3   4          70       RL         60.0     9550   Pave   NaN      IR1   \n",
       "4   5          60       RL         84.0    14260   Pave   NaN      IR1   \n",
       "\n",
       "  LandContour Utilities  ... PoolArea PoolQC Fence MiscFeature MiscVal MoSold  \\\n",
       "0         Lvl    AllPub  ...        0    NaN   NaN         NaN       0      2   \n",
       "1         Lvl    AllPub  ...        0    NaN   NaN         NaN       0      5   \n",
       "2         Lvl    AllPub  ...        0    NaN   NaN         NaN       0      9   \n",
       "3         Lvl    AllPub  ...        0    NaN   NaN         NaN       0      2   \n",
       "4         Lvl    AllPub  ...        0    NaN   NaN         NaN       0     12   \n",
       "\n",
       "  YrSold  SaleType  SaleCondition  SalePrice  \n",
       "0   2008        WD         Normal     208500  \n",
       "1   2007        WD         Normal     181500  \n",
       "2   2008        WD         Normal     223500  \n",
       "3   2006        WD        Abnorml     140000  \n",
       "4   2008        WD         Normal     250000  \n",
       "\n",
       "[5 rows x 81 columns]"
      ]
     },
     "execution_count": 4,
     "metadata": {},
     "output_type": "execute_result"
    }
   ],
   "source": [
    "train_data.head()"
   ]
  },
  {
   "cell_type": "code",
   "execution_count": 5,
   "id": "49614140",
   "metadata": {
    "execution": {
     "iopub.execute_input": "2023-09-04T09:50:03.356861Z",
     "iopub.status.busy": "2023-09-04T09:50:03.356444Z",
     "iopub.status.idle": "2023-09-04T09:50:03.380119Z",
     "shell.execute_reply": "2023-09-04T09:50:03.378797Z"
    },
    "papermill": {
     "duration": 0.04499,
     "end_time": "2023-09-04T09:50:03.382710",
     "exception": false,
     "start_time": "2023-09-04T09:50:03.337720",
     "status": "completed"
    },
    "tags": []
   },
   "outputs": [
    {
     "data": {
      "text/html": [
       "<div>\n",
       "<style scoped>\n",
       "    .dataframe tbody tr th:only-of-type {\n",
       "        vertical-align: middle;\n",
       "    }\n",
       "\n",
       "    .dataframe tbody tr th {\n",
       "        vertical-align: top;\n",
       "    }\n",
       "\n",
       "    .dataframe thead th {\n",
       "        text-align: right;\n",
       "    }\n",
       "</style>\n",
       "<table border=\"1\" class=\"dataframe\">\n",
       "  <thead>\n",
       "    <tr style=\"text-align: right;\">\n",
       "      <th></th>\n",
       "      <th>Id</th>\n",
       "      <th>MSSubClass</th>\n",
       "      <th>MSZoning</th>\n",
       "      <th>LotFrontage</th>\n",
       "      <th>LotArea</th>\n",
       "      <th>Street</th>\n",
       "      <th>Alley</th>\n",
       "      <th>LotShape</th>\n",
       "      <th>LandContour</th>\n",
       "      <th>Utilities</th>\n",
       "      <th>...</th>\n",
       "      <th>ScreenPorch</th>\n",
       "      <th>PoolArea</th>\n",
       "      <th>PoolQC</th>\n",
       "      <th>Fence</th>\n",
       "      <th>MiscFeature</th>\n",
       "      <th>MiscVal</th>\n",
       "      <th>MoSold</th>\n",
       "      <th>YrSold</th>\n",
       "      <th>SaleType</th>\n",
       "      <th>SaleCondition</th>\n",
       "    </tr>\n",
       "  </thead>\n",
       "  <tbody>\n",
       "    <tr>\n",
       "      <th>0</th>\n",
       "      <td>1461</td>\n",
       "      <td>20</td>\n",
       "      <td>RH</td>\n",
       "      <td>80.0</td>\n",
       "      <td>11622</td>\n",
       "      <td>Pave</td>\n",
       "      <td>NaN</td>\n",
       "      <td>Reg</td>\n",
       "      <td>Lvl</td>\n",
       "      <td>AllPub</td>\n",
       "      <td>...</td>\n",
       "      <td>120</td>\n",
       "      <td>0</td>\n",
       "      <td>NaN</td>\n",
       "      <td>MnPrv</td>\n",
       "      <td>NaN</td>\n",
       "      <td>0</td>\n",
       "      <td>6</td>\n",
       "      <td>2010</td>\n",
       "      <td>WD</td>\n",
       "      <td>Normal</td>\n",
       "    </tr>\n",
       "    <tr>\n",
       "      <th>1</th>\n",
       "      <td>1462</td>\n",
       "      <td>20</td>\n",
       "      <td>RL</td>\n",
       "      <td>81.0</td>\n",
       "      <td>14267</td>\n",
       "      <td>Pave</td>\n",
       "      <td>NaN</td>\n",
       "      <td>IR1</td>\n",
       "      <td>Lvl</td>\n",
       "      <td>AllPub</td>\n",
       "      <td>...</td>\n",
       "      <td>0</td>\n",
       "      <td>0</td>\n",
       "      <td>NaN</td>\n",
       "      <td>NaN</td>\n",
       "      <td>Gar2</td>\n",
       "      <td>12500</td>\n",
       "      <td>6</td>\n",
       "      <td>2010</td>\n",
       "      <td>WD</td>\n",
       "      <td>Normal</td>\n",
       "    </tr>\n",
       "    <tr>\n",
       "      <th>2</th>\n",
       "      <td>1463</td>\n",
       "      <td>60</td>\n",
       "      <td>RL</td>\n",
       "      <td>74.0</td>\n",
       "      <td>13830</td>\n",
       "      <td>Pave</td>\n",
       "      <td>NaN</td>\n",
       "      <td>IR1</td>\n",
       "      <td>Lvl</td>\n",
       "      <td>AllPub</td>\n",
       "      <td>...</td>\n",
       "      <td>0</td>\n",
       "      <td>0</td>\n",
       "      <td>NaN</td>\n",
       "      <td>MnPrv</td>\n",
       "      <td>NaN</td>\n",
       "      <td>0</td>\n",
       "      <td>3</td>\n",
       "      <td>2010</td>\n",
       "      <td>WD</td>\n",
       "      <td>Normal</td>\n",
       "    </tr>\n",
       "    <tr>\n",
       "      <th>3</th>\n",
       "      <td>1464</td>\n",
       "      <td>60</td>\n",
       "      <td>RL</td>\n",
       "      <td>78.0</td>\n",
       "      <td>9978</td>\n",
       "      <td>Pave</td>\n",
       "      <td>NaN</td>\n",
       "      <td>IR1</td>\n",
       "      <td>Lvl</td>\n",
       "      <td>AllPub</td>\n",
       "      <td>...</td>\n",
       "      <td>0</td>\n",
       "      <td>0</td>\n",
       "      <td>NaN</td>\n",
       "      <td>NaN</td>\n",
       "      <td>NaN</td>\n",
       "      <td>0</td>\n",
       "      <td>6</td>\n",
       "      <td>2010</td>\n",
       "      <td>WD</td>\n",
       "      <td>Normal</td>\n",
       "    </tr>\n",
       "    <tr>\n",
       "      <th>4</th>\n",
       "      <td>1465</td>\n",
       "      <td>120</td>\n",
       "      <td>RL</td>\n",
       "      <td>43.0</td>\n",
       "      <td>5005</td>\n",
       "      <td>Pave</td>\n",
       "      <td>NaN</td>\n",
       "      <td>IR1</td>\n",
       "      <td>HLS</td>\n",
       "      <td>AllPub</td>\n",
       "      <td>...</td>\n",
       "      <td>144</td>\n",
       "      <td>0</td>\n",
       "      <td>NaN</td>\n",
       "      <td>NaN</td>\n",
       "      <td>NaN</td>\n",
       "      <td>0</td>\n",
       "      <td>1</td>\n",
       "      <td>2010</td>\n",
       "      <td>WD</td>\n",
       "      <td>Normal</td>\n",
       "    </tr>\n",
       "  </tbody>\n",
       "</table>\n",
       "<p>5 rows × 80 columns</p>\n",
       "</div>"
      ],
      "text/plain": [
       "     Id  MSSubClass MSZoning  LotFrontage  LotArea Street Alley LotShape  \\\n",
       "0  1461          20       RH         80.0    11622   Pave   NaN      Reg   \n",
       "1  1462          20       RL         81.0    14267   Pave   NaN      IR1   \n",
       "2  1463          60       RL         74.0    13830   Pave   NaN      IR1   \n",
       "3  1464          60       RL         78.0     9978   Pave   NaN      IR1   \n",
       "4  1465         120       RL         43.0     5005   Pave   NaN      IR1   \n",
       "\n",
       "  LandContour Utilities  ... ScreenPorch PoolArea PoolQC  Fence MiscFeature  \\\n",
       "0         Lvl    AllPub  ...         120        0    NaN  MnPrv         NaN   \n",
       "1         Lvl    AllPub  ...           0        0    NaN    NaN        Gar2   \n",
       "2         Lvl    AllPub  ...           0        0    NaN  MnPrv         NaN   \n",
       "3         Lvl    AllPub  ...           0        0    NaN    NaN         NaN   \n",
       "4         HLS    AllPub  ...         144        0    NaN    NaN         NaN   \n",
       "\n",
       "  MiscVal MoSold  YrSold  SaleType  SaleCondition  \n",
       "0       0      6    2010        WD         Normal  \n",
       "1   12500      6    2010        WD         Normal  \n",
       "2       0      3    2010        WD         Normal  \n",
       "3       0      6    2010        WD         Normal  \n",
       "4       0      1    2010        WD         Normal  \n",
       "\n",
       "[5 rows x 80 columns]"
      ]
     },
     "execution_count": 5,
     "metadata": {},
     "output_type": "execute_result"
    }
   ],
   "source": [
    "test_data.head()"
   ]
  },
  {
   "cell_type": "code",
   "execution_count": 6,
   "id": "b11614c4",
   "metadata": {
    "execution": {
     "iopub.execute_input": "2023-09-04T09:50:03.416614Z",
     "iopub.status.busy": "2023-09-04T09:50:03.416030Z",
     "iopub.status.idle": "2023-09-04T09:50:03.520737Z",
     "shell.execute_reply": "2023-09-04T09:50:03.519204Z"
    },
    "papermill": {
     "duration": 0.125186,
     "end_time": "2023-09-04T09:50:03.524176",
     "exception": false,
     "start_time": "2023-09-04T09:50:03.398990",
     "status": "completed"
    },
    "tags": []
   },
   "outputs": [
    {
     "data": {
      "text/html": [
       "<div>\n",
       "<style scoped>\n",
       "    .dataframe tbody tr th:only-of-type {\n",
       "        vertical-align: middle;\n",
       "    }\n",
       "\n",
       "    .dataframe tbody tr th {\n",
       "        vertical-align: top;\n",
       "    }\n",
       "\n",
       "    .dataframe thead th {\n",
       "        text-align: right;\n",
       "    }\n",
       "</style>\n",
       "<table border=\"1\" class=\"dataframe\">\n",
       "  <thead>\n",
       "    <tr style=\"text-align: right;\">\n",
       "      <th></th>\n",
       "      <th>Id</th>\n",
       "      <th>MSSubClass</th>\n",
       "      <th>LotFrontage</th>\n",
       "      <th>LotArea</th>\n",
       "      <th>OverallQual</th>\n",
       "      <th>OverallCond</th>\n",
       "      <th>YearBuilt</th>\n",
       "      <th>YearRemodAdd</th>\n",
       "      <th>MasVnrArea</th>\n",
       "      <th>BsmtFinSF1</th>\n",
       "      <th>...</th>\n",
       "      <th>WoodDeckSF</th>\n",
       "      <th>OpenPorchSF</th>\n",
       "      <th>EnclosedPorch</th>\n",
       "      <th>3SsnPorch</th>\n",
       "      <th>ScreenPorch</th>\n",
       "      <th>PoolArea</th>\n",
       "      <th>MiscVal</th>\n",
       "      <th>MoSold</th>\n",
       "      <th>YrSold</th>\n",
       "      <th>SalePrice</th>\n",
       "    </tr>\n",
       "  </thead>\n",
       "  <tbody>\n",
       "    <tr>\n",
       "      <th>count</th>\n",
       "      <td>1460.000000</td>\n",
       "      <td>1460.000000</td>\n",
       "      <td>1201.000000</td>\n",
       "      <td>1460.000000</td>\n",
       "      <td>1460.000000</td>\n",
       "      <td>1460.000000</td>\n",
       "      <td>1460.000000</td>\n",
       "      <td>1460.000000</td>\n",
       "      <td>1452.000000</td>\n",
       "      <td>1460.000000</td>\n",
       "      <td>...</td>\n",
       "      <td>1460.000000</td>\n",
       "      <td>1460.000000</td>\n",
       "      <td>1460.000000</td>\n",
       "      <td>1460.000000</td>\n",
       "      <td>1460.000000</td>\n",
       "      <td>1460.000000</td>\n",
       "      <td>1460.000000</td>\n",
       "      <td>1460.000000</td>\n",
       "      <td>1460.000000</td>\n",
       "      <td>1460.000000</td>\n",
       "    </tr>\n",
       "    <tr>\n",
       "      <th>mean</th>\n",
       "      <td>730.500000</td>\n",
       "      <td>56.897260</td>\n",
       "      <td>70.049958</td>\n",
       "      <td>10516.828082</td>\n",
       "      <td>6.099315</td>\n",
       "      <td>5.575342</td>\n",
       "      <td>1971.267808</td>\n",
       "      <td>1984.865753</td>\n",
       "      <td>103.685262</td>\n",
       "      <td>443.639726</td>\n",
       "      <td>...</td>\n",
       "      <td>94.244521</td>\n",
       "      <td>46.660274</td>\n",
       "      <td>21.954110</td>\n",
       "      <td>3.409589</td>\n",
       "      <td>15.060959</td>\n",
       "      <td>2.758904</td>\n",
       "      <td>43.489041</td>\n",
       "      <td>6.321918</td>\n",
       "      <td>2007.815753</td>\n",
       "      <td>180921.195890</td>\n",
       "    </tr>\n",
       "    <tr>\n",
       "      <th>std</th>\n",
       "      <td>421.610009</td>\n",
       "      <td>42.300571</td>\n",
       "      <td>24.284752</td>\n",
       "      <td>9981.264932</td>\n",
       "      <td>1.382997</td>\n",
       "      <td>1.112799</td>\n",
       "      <td>30.202904</td>\n",
       "      <td>20.645407</td>\n",
       "      <td>181.066207</td>\n",
       "      <td>456.098091</td>\n",
       "      <td>...</td>\n",
       "      <td>125.338794</td>\n",
       "      <td>66.256028</td>\n",
       "      <td>61.119149</td>\n",
       "      <td>29.317331</td>\n",
       "      <td>55.757415</td>\n",
       "      <td>40.177307</td>\n",
       "      <td>496.123024</td>\n",
       "      <td>2.703626</td>\n",
       "      <td>1.328095</td>\n",
       "      <td>79442.502883</td>\n",
       "    </tr>\n",
       "    <tr>\n",
       "      <th>min</th>\n",
       "      <td>1.000000</td>\n",
       "      <td>20.000000</td>\n",
       "      <td>21.000000</td>\n",
       "      <td>1300.000000</td>\n",
       "      <td>1.000000</td>\n",
       "      <td>1.000000</td>\n",
       "      <td>1872.000000</td>\n",
       "      <td>1950.000000</td>\n",
       "      <td>0.000000</td>\n",
       "      <td>0.000000</td>\n",
       "      <td>...</td>\n",
       "      <td>0.000000</td>\n",
       "      <td>0.000000</td>\n",
       "      <td>0.000000</td>\n",
       "      <td>0.000000</td>\n",
       "      <td>0.000000</td>\n",
       "      <td>0.000000</td>\n",
       "      <td>0.000000</td>\n",
       "      <td>1.000000</td>\n",
       "      <td>2006.000000</td>\n",
       "      <td>34900.000000</td>\n",
       "    </tr>\n",
       "    <tr>\n",
       "      <th>25%</th>\n",
       "      <td>365.750000</td>\n",
       "      <td>20.000000</td>\n",
       "      <td>59.000000</td>\n",
       "      <td>7553.500000</td>\n",
       "      <td>5.000000</td>\n",
       "      <td>5.000000</td>\n",
       "      <td>1954.000000</td>\n",
       "      <td>1967.000000</td>\n",
       "      <td>0.000000</td>\n",
       "      <td>0.000000</td>\n",
       "      <td>...</td>\n",
       "      <td>0.000000</td>\n",
       "      <td>0.000000</td>\n",
       "      <td>0.000000</td>\n",
       "      <td>0.000000</td>\n",
       "      <td>0.000000</td>\n",
       "      <td>0.000000</td>\n",
       "      <td>0.000000</td>\n",
       "      <td>5.000000</td>\n",
       "      <td>2007.000000</td>\n",
       "      <td>129975.000000</td>\n",
       "    </tr>\n",
       "    <tr>\n",
       "      <th>50%</th>\n",
       "      <td>730.500000</td>\n",
       "      <td>50.000000</td>\n",
       "      <td>69.000000</td>\n",
       "      <td>9478.500000</td>\n",
       "      <td>6.000000</td>\n",
       "      <td>5.000000</td>\n",
       "      <td>1973.000000</td>\n",
       "      <td>1994.000000</td>\n",
       "      <td>0.000000</td>\n",
       "      <td>383.500000</td>\n",
       "      <td>...</td>\n",
       "      <td>0.000000</td>\n",
       "      <td>25.000000</td>\n",
       "      <td>0.000000</td>\n",
       "      <td>0.000000</td>\n",
       "      <td>0.000000</td>\n",
       "      <td>0.000000</td>\n",
       "      <td>0.000000</td>\n",
       "      <td>6.000000</td>\n",
       "      <td>2008.000000</td>\n",
       "      <td>163000.000000</td>\n",
       "    </tr>\n",
       "    <tr>\n",
       "      <th>75%</th>\n",
       "      <td>1095.250000</td>\n",
       "      <td>70.000000</td>\n",
       "      <td>80.000000</td>\n",
       "      <td>11601.500000</td>\n",
       "      <td>7.000000</td>\n",
       "      <td>6.000000</td>\n",
       "      <td>2000.000000</td>\n",
       "      <td>2004.000000</td>\n",
       "      <td>166.000000</td>\n",
       "      <td>712.250000</td>\n",
       "      <td>...</td>\n",
       "      <td>168.000000</td>\n",
       "      <td>68.000000</td>\n",
       "      <td>0.000000</td>\n",
       "      <td>0.000000</td>\n",
       "      <td>0.000000</td>\n",
       "      <td>0.000000</td>\n",
       "      <td>0.000000</td>\n",
       "      <td>8.000000</td>\n",
       "      <td>2009.000000</td>\n",
       "      <td>214000.000000</td>\n",
       "    </tr>\n",
       "    <tr>\n",
       "      <th>max</th>\n",
       "      <td>1460.000000</td>\n",
       "      <td>190.000000</td>\n",
       "      <td>313.000000</td>\n",
       "      <td>215245.000000</td>\n",
       "      <td>10.000000</td>\n",
       "      <td>9.000000</td>\n",
       "      <td>2010.000000</td>\n",
       "      <td>2010.000000</td>\n",
       "      <td>1600.000000</td>\n",
       "      <td>5644.000000</td>\n",
       "      <td>...</td>\n",
       "      <td>857.000000</td>\n",
       "      <td>547.000000</td>\n",
       "      <td>552.000000</td>\n",
       "      <td>508.000000</td>\n",
       "      <td>480.000000</td>\n",
       "      <td>738.000000</td>\n",
       "      <td>15500.000000</td>\n",
       "      <td>12.000000</td>\n",
       "      <td>2010.000000</td>\n",
       "      <td>755000.000000</td>\n",
       "    </tr>\n",
       "  </tbody>\n",
       "</table>\n",
       "<p>8 rows × 38 columns</p>\n",
       "</div>"
      ],
      "text/plain": [
       "                Id   MSSubClass  LotFrontage        LotArea  OverallQual  \\\n",
       "count  1460.000000  1460.000000  1201.000000    1460.000000  1460.000000   \n",
       "mean    730.500000    56.897260    70.049958   10516.828082     6.099315   \n",
       "std     421.610009    42.300571    24.284752    9981.264932     1.382997   \n",
       "min       1.000000    20.000000    21.000000    1300.000000     1.000000   \n",
       "25%     365.750000    20.000000    59.000000    7553.500000     5.000000   \n",
       "50%     730.500000    50.000000    69.000000    9478.500000     6.000000   \n",
       "75%    1095.250000    70.000000    80.000000   11601.500000     7.000000   \n",
       "max    1460.000000   190.000000   313.000000  215245.000000    10.000000   \n",
       "\n",
       "       OverallCond    YearBuilt  YearRemodAdd   MasVnrArea   BsmtFinSF1  ...  \\\n",
       "count  1460.000000  1460.000000   1460.000000  1452.000000  1460.000000  ...   \n",
       "mean      5.575342  1971.267808   1984.865753   103.685262   443.639726  ...   \n",
       "std       1.112799    30.202904     20.645407   181.066207   456.098091  ...   \n",
       "min       1.000000  1872.000000   1950.000000     0.000000     0.000000  ...   \n",
       "25%       5.000000  1954.000000   1967.000000     0.000000     0.000000  ...   \n",
       "50%       5.000000  1973.000000   1994.000000     0.000000   383.500000  ...   \n",
       "75%       6.000000  2000.000000   2004.000000   166.000000   712.250000  ...   \n",
       "max       9.000000  2010.000000   2010.000000  1600.000000  5644.000000  ...   \n",
       "\n",
       "        WoodDeckSF  OpenPorchSF  EnclosedPorch    3SsnPorch  ScreenPorch  \\\n",
       "count  1460.000000  1460.000000    1460.000000  1460.000000  1460.000000   \n",
       "mean     94.244521    46.660274      21.954110     3.409589    15.060959   \n",
       "std     125.338794    66.256028      61.119149    29.317331    55.757415   \n",
       "min       0.000000     0.000000       0.000000     0.000000     0.000000   \n",
       "25%       0.000000     0.000000       0.000000     0.000000     0.000000   \n",
       "50%       0.000000    25.000000       0.000000     0.000000     0.000000   \n",
       "75%     168.000000    68.000000       0.000000     0.000000     0.000000   \n",
       "max     857.000000   547.000000     552.000000   508.000000   480.000000   \n",
       "\n",
       "          PoolArea       MiscVal       MoSold       YrSold      SalePrice  \n",
       "count  1460.000000   1460.000000  1460.000000  1460.000000    1460.000000  \n",
       "mean      2.758904     43.489041     6.321918  2007.815753  180921.195890  \n",
       "std      40.177307    496.123024     2.703626     1.328095   79442.502883  \n",
       "min       0.000000      0.000000     1.000000  2006.000000   34900.000000  \n",
       "25%       0.000000      0.000000     5.000000  2007.000000  129975.000000  \n",
       "50%       0.000000      0.000000     6.000000  2008.000000  163000.000000  \n",
       "75%       0.000000      0.000000     8.000000  2009.000000  214000.000000  \n",
       "max     738.000000  15500.000000    12.000000  2010.000000  755000.000000  \n",
       "\n",
       "[8 rows x 38 columns]"
      ]
     },
     "execution_count": 6,
     "metadata": {},
     "output_type": "execute_result"
    }
   ],
   "source": [
    "train_data.describe()"
   ]
  },
  {
   "cell_type": "code",
   "execution_count": 7,
   "id": "931d4333",
   "metadata": {
    "execution": {
     "iopub.execute_input": "2023-09-04T09:50:03.561121Z",
     "iopub.status.busy": "2023-09-04T09:50:03.560627Z",
     "iopub.status.idle": "2023-09-04T09:50:03.568109Z",
     "shell.execute_reply": "2023-09-04T09:50:03.566806Z"
    },
    "papermill": {
     "duration": 0.028365,
     "end_time": "2023-09-04T09:50:03.570626",
     "exception": false,
     "start_time": "2023-09-04T09:50:03.542261",
     "status": "completed"
    },
    "tags": []
   },
   "outputs": [
    {
     "name": "stdout",
     "output_type": "stream",
     "text": [
      "Train shaping is :  (1460, 81)\n",
      "Train shaping[0] is :  1460\n",
      "Train shaping[1] is :  81\n",
      "Test shaping is :  (1459, 80)\n",
      "Test shaping[0] is :  1459\n",
      "Test shaping[1] is :  80\n"
     ]
    }
   ],
   "source": [
    "print('Train shaping is : ',train_data.shape)\n",
    "print('Train shaping[0] is : ',train_data.shape[0])\n",
    "print('Train shaping[1] is : ',train_data.shape[1])\n",
    "print('Test shaping is : ',test_data.shape)\n",
    "print('Test shaping[0] is : ',test_data.shape[0])\n",
    "print('Test shaping[1] is : ',test_data.shape[1])"
   ]
  },
  {
   "cell_type": "code",
   "execution_count": 8,
   "id": "4409540f",
   "metadata": {
    "execution": {
     "iopub.execute_input": "2023-09-04T09:50:03.605576Z",
     "iopub.status.busy": "2023-09-04T09:50:03.605155Z",
     "iopub.status.idle": "2023-09-04T09:50:03.639780Z",
     "shell.execute_reply": "2023-09-04T09:50:03.638446Z"
    },
    "papermill": {
     "duration": 0.05494,
     "end_time": "2023-09-04T09:50:03.642789",
     "exception": false,
     "start_time": "2023-09-04T09:50:03.587849",
     "status": "completed"
    },
    "tags": []
   },
   "outputs": [
    {
     "name": "stdout",
     "output_type": "stream",
     "text": [
      "<class 'pandas.core.frame.DataFrame'>\n",
      "RangeIndex: 1460 entries, 0 to 1459\n",
      "Data columns (total 81 columns):\n",
      " #   Column         Non-Null Count  Dtype  \n",
      "---  ------         --------------  -----  \n",
      " 0   Id             1460 non-null   int64  \n",
      " 1   MSSubClass     1460 non-null   int64  \n",
      " 2   MSZoning       1460 non-null   object \n",
      " 3   LotFrontage    1201 non-null   float64\n",
      " 4   LotArea        1460 non-null   int64  \n",
      " 5   Street         1460 non-null   object \n",
      " 6   Alley          91 non-null     object \n",
      " 7   LotShape       1460 non-null   object \n",
      " 8   LandContour    1460 non-null   object \n",
      " 9   Utilities      1460 non-null   object \n",
      " 10  LotConfig      1460 non-null   object \n",
      " 11  LandSlope      1460 non-null   object \n",
      " 12  Neighborhood   1460 non-null   object \n",
      " 13  Condition1     1460 non-null   object \n",
      " 14  Condition2     1460 non-null   object \n",
      " 15  BldgType       1460 non-null   object \n",
      " 16  HouseStyle     1460 non-null   object \n",
      " 17  OverallQual    1460 non-null   int64  \n",
      " 18  OverallCond    1460 non-null   int64  \n",
      " 19  YearBuilt      1460 non-null   int64  \n",
      " 20  YearRemodAdd   1460 non-null   int64  \n",
      " 21  RoofStyle      1460 non-null   object \n",
      " 22  RoofMatl       1460 non-null   object \n",
      " 23  Exterior1st    1460 non-null   object \n",
      " 24  Exterior2nd    1460 non-null   object \n",
      " 25  MasVnrType     588 non-null    object \n",
      " 26  MasVnrArea     1452 non-null   float64\n",
      " 27  ExterQual      1460 non-null   object \n",
      " 28  ExterCond      1460 non-null   object \n",
      " 29  Foundation     1460 non-null   object \n",
      " 30  BsmtQual       1423 non-null   object \n",
      " 31  BsmtCond       1423 non-null   object \n",
      " 32  BsmtExposure   1422 non-null   object \n",
      " 33  BsmtFinType1   1423 non-null   object \n",
      " 34  BsmtFinSF1     1460 non-null   int64  \n",
      " 35  BsmtFinType2   1422 non-null   object \n",
      " 36  BsmtFinSF2     1460 non-null   int64  \n",
      " 37  BsmtUnfSF      1460 non-null   int64  \n",
      " 38  TotalBsmtSF    1460 non-null   int64  \n",
      " 39  Heating        1460 non-null   object \n",
      " 40  HeatingQC      1460 non-null   object \n",
      " 41  CentralAir     1460 non-null   object \n",
      " 42  Electrical     1459 non-null   object \n",
      " 43  1stFlrSF       1460 non-null   int64  \n",
      " 44  2ndFlrSF       1460 non-null   int64  \n",
      " 45  LowQualFinSF   1460 non-null   int64  \n",
      " 46  GrLivArea      1460 non-null   int64  \n",
      " 47  BsmtFullBath   1460 non-null   int64  \n",
      " 48  BsmtHalfBath   1460 non-null   int64  \n",
      " 49  FullBath       1460 non-null   int64  \n",
      " 50  HalfBath       1460 non-null   int64  \n",
      " 51  BedroomAbvGr   1460 non-null   int64  \n",
      " 52  KitchenAbvGr   1460 non-null   int64  \n",
      " 53  KitchenQual    1460 non-null   object \n",
      " 54  TotRmsAbvGrd   1460 non-null   int64  \n",
      " 55  Functional     1460 non-null   object \n",
      " 56  Fireplaces     1460 non-null   int64  \n",
      " 57  FireplaceQu    770 non-null    object \n",
      " 58  GarageType     1379 non-null   object \n",
      " 59  GarageYrBlt    1379 non-null   float64\n",
      " 60  GarageFinish   1379 non-null   object \n",
      " 61  GarageCars     1460 non-null   int64  \n",
      " 62  GarageArea     1460 non-null   int64  \n",
      " 63  GarageQual     1379 non-null   object \n",
      " 64  GarageCond     1379 non-null   object \n",
      " 65  PavedDrive     1460 non-null   object \n",
      " 66  WoodDeckSF     1460 non-null   int64  \n",
      " 67  OpenPorchSF    1460 non-null   int64  \n",
      " 68  EnclosedPorch  1460 non-null   int64  \n",
      " 69  3SsnPorch      1460 non-null   int64  \n",
      " 70  ScreenPorch    1460 non-null   int64  \n",
      " 71  PoolArea       1460 non-null   int64  \n",
      " 72  PoolQC         7 non-null      object \n",
      " 73  Fence          281 non-null    object \n",
      " 74  MiscFeature    54 non-null     object \n",
      " 75  MiscVal        1460 non-null   int64  \n",
      " 76  MoSold         1460 non-null   int64  \n",
      " 77  YrSold         1460 non-null   int64  \n",
      " 78  SaleType       1460 non-null   object \n",
      " 79  SaleCondition  1460 non-null   object \n",
      " 80  SalePrice      1460 non-null   int64  \n",
      "dtypes: float64(3), int64(35), object(43)\n",
      "memory usage: 924.0+ KB\n"
     ]
    }
   ],
   "source": [
    "train_data.info()"
   ]
  },
  {
   "cell_type": "code",
   "execution_count": 9,
   "id": "a291996e",
   "metadata": {
    "execution": {
     "iopub.execute_input": "2023-09-04T09:50:03.677936Z",
     "iopub.status.busy": "2023-09-04T09:50:03.677513Z",
     "iopub.status.idle": "2023-09-04T09:50:03.690223Z",
     "shell.execute_reply": "2023-09-04T09:50:03.689136Z"
    },
    "papermill": {
     "duration": 0.033442,
     "end_time": "2023-09-04T09:50:03.692623",
     "exception": false,
     "start_time": "2023-09-04T09:50:03.659181",
     "status": "completed"
    },
    "tags": []
   },
   "outputs": [
    {
     "data": {
      "text/plain": [
       "Id                 0\n",
       "MSSubClass         0\n",
       "MSZoning           0\n",
       "LotFrontage      259\n",
       "LotArea            0\n",
       "                ... \n",
       "MoSold             0\n",
       "YrSold             0\n",
       "SaleType           0\n",
       "SaleCondition      0\n",
       "SalePrice          0\n",
       "Length: 81, dtype: int64"
      ]
     },
     "execution_count": 9,
     "metadata": {},
     "output_type": "execute_result"
    }
   ],
   "source": [
    "train_data.isnull().sum()"
   ]
  },
  {
   "cell_type": "code",
   "execution_count": 10,
   "id": "23e48b66",
   "metadata": {
    "execution": {
     "iopub.execute_input": "2023-09-04T09:50:03.728290Z",
     "iopub.status.busy": "2023-09-04T09:50:03.727785Z",
     "iopub.status.idle": "2023-09-04T09:50:03.733003Z",
     "shell.execute_reply": "2023-09-04T09:50:03.731648Z"
    },
    "papermill": {
     "duration": 0.026866,
     "end_time": "2023-09-04T09:50:03.735737",
     "exception": false,
     "start_time": "2023-09-04T09:50:03.708871",
     "status": "completed"
    },
    "tags": []
   },
   "outputs": [],
   "source": [
    "drop_col=['Alley','MasVnrType','FireplaceQu','PoolQC','Fence','MiscFeature']"
   ]
  },
  {
   "cell_type": "code",
   "execution_count": 11,
   "id": "3ee32f12",
   "metadata": {
    "execution": {
     "iopub.execute_input": "2023-09-04T09:50:03.773215Z",
     "iopub.status.busy": "2023-09-04T09:50:03.772745Z",
     "iopub.status.idle": "2023-09-04T09:50:03.783691Z",
     "shell.execute_reply": "2023-09-04T09:50:03.782679Z"
    },
    "papermill": {
     "duration": 0.033159,
     "end_time": "2023-09-04T09:50:03.786856",
     "exception": false,
     "start_time": "2023-09-04T09:50:03.753697",
     "status": "completed"
    },
    "tags": []
   },
   "outputs": [],
   "source": [
    "train_data.drop(drop_col,axis=1,inplace=True)\n",
    "test_data.drop(drop_col,axis=1,inplace=True)"
   ]
  },
  {
   "cell_type": "code",
   "execution_count": 12,
   "id": "98b6c886",
   "metadata": {
    "execution": {
     "iopub.execute_input": "2023-09-04T09:50:03.915926Z",
     "iopub.status.busy": "2023-09-04T09:50:03.915264Z",
     "iopub.status.idle": "2023-09-04T09:50:03.933939Z",
     "shell.execute_reply": "2023-09-04T09:50:03.932767Z"
    },
    "papermill": {
     "duration": 0.04143,
     "end_time": "2023-09-04T09:50:03.936805",
     "exception": false,
     "start_time": "2023-09-04T09:50:03.895375",
     "status": "completed"
    },
    "tags": []
   },
   "outputs": [
    {
     "name": "stdout",
     "output_type": "stream",
     "text": [
      "<class 'pandas.core.frame.DataFrame'>\n",
      "RangeIndex: 1460 entries, 0 to 1459\n",
      "Data columns (total 75 columns):\n",
      " #   Column         Non-Null Count  Dtype  \n",
      "---  ------         --------------  -----  \n",
      " 0   Id             1460 non-null   int64  \n",
      " 1   MSSubClass     1460 non-null   int64  \n",
      " 2   MSZoning       1460 non-null   object \n",
      " 3   LotFrontage    1201 non-null   float64\n",
      " 4   LotArea        1460 non-null   int64  \n",
      " 5   Street         1460 non-null   object \n",
      " 6   LotShape       1460 non-null   object \n",
      " 7   LandContour    1460 non-null   object \n",
      " 8   Utilities      1460 non-null   object \n",
      " 9   LotConfig      1460 non-null   object \n",
      " 10  LandSlope      1460 non-null   object \n",
      " 11  Neighborhood   1460 non-null   object \n",
      " 12  Condition1     1460 non-null   object \n",
      " 13  Condition2     1460 non-null   object \n",
      " 14  BldgType       1460 non-null   object \n",
      " 15  HouseStyle     1460 non-null   object \n",
      " 16  OverallQual    1460 non-null   int64  \n",
      " 17  OverallCond    1460 non-null   int64  \n",
      " 18  YearBuilt      1460 non-null   int64  \n",
      " 19  YearRemodAdd   1460 non-null   int64  \n",
      " 20  RoofStyle      1460 non-null   object \n",
      " 21  RoofMatl       1460 non-null   object \n",
      " 22  Exterior1st    1460 non-null   object \n",
      " 23  Exterior2nd    1460 non-null   object \n",
      " 24  MasVnrArea     1452 non-null   float64\n",
      " 25  ExterQual      1460 non-null   object \n",
      " 26  ExterCond      1460 non-null   object \n",
      " 27  Foundation     1460 non-null   object \n",
      " 28  BsmtQual       1423 non-null   object \n",
      " 29  BsmtCond       1423 non-null   object \n",
      " 30  BsmtExposure   1422 non-null   object \n",
      " 31  BsmtFinType1   1423 non-null   object \n",
      " 32  BsmtFinSF1     1460 non-null   int64  \n",
      " 33  BsmtFinType2   1422 non-null   object \n",
      " 34  BsmtFinSF2     1460 non-null   int64  \n",
      " 35  BsmtUnfSF      1460 non-null   int64  \n",
      " 36  TotalBsmtSF    1460 non-null   int64  \n",
      " 37  Heating        1460 non-null   object \n",
      " 38  HeatingQC      1460 non-null   object \n",
      " 39  CentralAir     1460 non-null   object \n",
      " 40  Electrical     1459 non-null   object \n",
      " 41  1stFlrSF       1460 non-null   int64  \n",
      " 42  2ndFlrSF       1460 non-null   int64  \n",
      " 43  LowQualFinSF   1460 non-null   int64  \n",
      " 44  GrLivArea      1460 non-null   int64  \n",
      " 45  BsmtFullBath   1460 non-null   int64  \n",
      " 46  BsmtHalfBath   1460 non-null   int64  \n",
      " 47  FullBath       1460 non-null   int64  \n",
      " 48  HalfBath       1460 non-null   int64  \n",
      " 49  BedroomAbvGr   1460 non-null   int64  \n",
      " 50  KitchenAbvGr   1460 non-null   int64  \n",
      " 51  KitchenQual    1460 non-null   object \n",
      " 52  TotRmsAbvGrd   1460 non-null   int64  \n",
      " 53  Functional     1460 non-null   object \n",
      " 54  Fireplaces     1460 non-null   int64  \n",
      " 55  GarageType     1379 non-null   object \n",
      " 56  GarageYrBlt    1379 non-null   float64\n",
      " 57  GarageFinish   1379 non-null   object \n",
      " 58  GarageCars     1460 non-null   int64  \n",
      " 59  GarageArea     1460 non-null   int64  \n",
      " 60  GarageQual     1379 non-null   object \n",
      " 61  GarageCond     1379 non-null   object \n",
      " 62  PavedDrive     1460 non-null   object \n",
      " 63  WoodDeckSF     1460 non-null   int64  \n",
      " 64  OpenPorchSF    1460 non-null   int64  \n",
      " 65  EnclosedPorch  1460 non-null   int64  \n",
      " 66  3SsnPorch      1460 non-null   int64  \n",
      " 67  ScreenPorch    1460 non-null   int64  \n",
      " 68  PoolArea       1460 non-null   int64  \n",
      " 69  MiscVal        1460 non-null   int64  \n",
      " 70  MoSold         1460 non-null   int64  \n",
      " 71  YrSold         1460 non-null   int64  \n",
      " 72  SaleType       1460 non-null   object \n",
      " 73  SaleCondition  1460 non-null   object \n",
      " 74  SalePrice      1460 non-null   int64  \n",
      "dtypes: float64(3), int64(35), object(37)\n",
      "memory usage: 855.6+ KB\n"
     ]
    }
   ],
   "source": [
    "train_data.info()"
   ]
  },
  {
   "cell_type": "code",
   "execution_count": 13,
   "id": "077e8d05",
   "metadata": {
    "execution": {
     "iopub.execute_input": "2023-09-04T09:50:03.972470Z",
     "iopub.status.busy": "2023-09-04T09:50:03.971996Z",
     "iopub.status.idle": "2023-09-04T09:50:03.991216Z",
     "shell.execute_reply": "2023-09-04T09:50:03.989243Z"
    },
    "papermill": {
     "duration": 0.040833,
     "end_time": "2023-09-04T09:50:03.994221",
     "exception": false,
     "start_time": "2023-09-04T09:50:03.953388",
     "status": "completed"
    },
    "tags": []
   },
   "outputs": [
    {
     "name": "stdout",
     "output_type": "stream",
     "text": [
      "<class 'pandas.core.frame.DataFrame'>\n",
      "RangeIndex: 1459 entries, 0 to 1458\n",
      "Data columns (total 74 columns):\n",
      " #   Column         Non-Null Count  Dtype  \n",
      "---  ------         --------------  -----  \n",
      " 0   Id             1459 non-null   int64  \n",
      " 1   MSSubClass     1459 non-null   int64  \n",
      " 2   MSZoning       1455 non-null   object \n",
      " 3   LotFrontage    1232 non-null   float64\n",
      " 4   LotArea        1459 non-null   int64  \n",
      " 5   Street         1459 non-null   object \n",
      " 6   LotShape       1459 non-null   object \n",
      " 7   LandContour    1459 non-null   object \n",
      " 8   Utilities      1457 non-null   object \n",
      " 9   LotConfig      1459 non-null   object \n",
      " 10  LandSlope      1459 non-null   object \n",
      " 11  Neighborhood   1459 non-null   object \n",
      " 12  Condition1     1459 non-null   object \n",
      " 13  Condition2     1459 non-null   object \n",
      " 14  BldgType       1459 non-null   object \n",
      " 15  HouseStyle     1459 non-null   object \n",
      " 16  OverallQual    1459 non-null   int64  \n",
      " 17  OverallCond    1459 non-null   int64  \n",
      " 18  YearBuilt      1459 non-null   int64  \n",
      " 19  YearRemodAdd   1459 non-null   int64  \n",
      " 20  RoofStyle      1459 non-null   object \n",
      " 21  RoofMatl       1459 non-null   object \n",
      " 22  Exterior1st    1458 non-null   object \n",
      " 23  Exterior2nd    1458 non-null   object \n",
      " 24  MasVnrArea     1444 non-null   float64\n",
      " 25  ExterQual      1459 non-null   object \n",
      " 26  ExterCond      1459 non-null   object \n",
      " 27  Foundation     1459 non-null   object \n",
      " 28  BsmtQual       1415 non-null   object \n",
      " 29  BsmtCond       1414 non-null   object \n",
      " 30  BsmtExposure   1415 non-null   object \n",
      " 31  BsmtFinType1   1417 non-null   object \n",
      " 32  BsmtFinSF1     1458 non-null   float64\n",
      " 33  BsmtFinType2   1417 non-null   object \n",
      " 34  BsmtFinSF2     1458 non-null   float64\n",
      " 35  BsmtUnfSF      1458 non-null   float64\n",
      " 36  TotalBsmtSF    1458 non-null   float64\n",
      " 37  Heating        1459 non-null   object \n",
      " 38  HeatingQC      1459 non-null   object \n",
      " 39  CentralAir     1459 non-null   object \n",
      " 40  Electrical     1459 non-null   object \n",
      " 41  1stFlrSF       1459 non-null   int64  \n",
      " 42  2ndFlrSF       1459 non-null   int64  \n",
      " 43  LowQualFinSF   1459 non-null   int64  \n",
      " 44  GrLivArea      1459 non-null   int64  \n",
      " 45  BsmtFullBath   1457 non-null   float64\n",
      " 46  BsmtHalfBath   1457 non-null   float64\n",
      " 47  FullBath       1459 non-null   int64  \n",
      " 48  HalfBath       1459 non-null   int64  \n",
      " 49  BedroomAbvGr   1459 non-null   int64  \n",
      " 50  KitchenAbvGr   1459 non-null   int64  \n",
      " 51  KitchenQual    1458 non-null   object \n",
      " 52  TotRmsAbvGrd   1459 non-null   int64  \n",
      " 53  Functional     1457 non-null   object \n",
      " 54  Fireplaces     1459 non-null   int64  \n",
      " 55  GarageType     1383 non-null   object \n",
      " 56  GarageYrBlt    1381 non-null   float64\n",
      " 57  GarageFinish   1381 non-null   object \n",
      " 58  GarageCars     1458 non-null   float64\n",
      " 59  GarageArea     1458 non-null   float64\n",
      " 60  GarageQual     1381 non-null   object \n",
      " 61  GarageCond     1381 non-null   object \n",
      " 62  PavedDrive     1459 non-null   object \n",
      " 63  WoodDeckSF     1459 non-null   int64  \n",
      " 64  OpenPorchSF    1459 non-null   int64  \n",
      " 65  EnclosedPorch  1459 non-null   int64  \n",
      " 66  3SsnPorch      1459 non-null   int64  \n",
      " 67  ScreenPorch    1459 non-null   int64  \n",
      " 68  PoolArea       1459 non-null   int64  \n",
      " 69  MiscVal        1459 non-null   int64  \n",
      " 70  MoSold         1459 non-null   int64  \n",
      " 71  YrSold         1459 non-null   int64  \n",
      " 72  SaleType       1458 non-null   object \n",
      " 73  SaleCondition  1459 non-null   object \n",
      "dtypes: float64(11), int64(26), object(37)\n",
      "memory usage: 843.6+ KB\n"
     ]
    }
   ],
   "source": [
    "test_data.info()"
   ]
  },
  {
   "cell_type": "code",
   "execution_count": 14,
   "id": "e4ed9c8a",
   "metadata": {
    "execution": {
     "iopub.execute_input": "2023-09-04T09:50:04.031826Z",
     "iopub.status.busy": "2023-09-04T09:50:04.030548Z",
     "iopub.status.idle": "2023-09-04T09:50:04.831649Z",
     "shell.execute_reply": "2023-09-04T09:50:04.830414Z"
    },
    "papermill": {
     "duration": 0.822969,
     "end_time": "2023-09-04T09:50:04.834309",
     "exception": false,
     "start_time": "2023-09-04T09:50:04.011340",
     "status": "completed"
    },
    "tags": []
   },
   "outputs": [
    {
     "data": {
      "image/png": "[encoded data removed]",
      "text/plain": [
       "<Figure size 1500x500 with 1 Axes>"
      ]
     },
     "metadata": {},
     "output_type": "display_data"
    }
   ],
   "source": [
    "plt.figure(figsize = (15,5))\n",
    "plt.bar(train_data.columns, train_data.isna().sum())\n",
    "plt.xlabel(\"Columns name\")\n",
    "plt.ylabel(\"Number of missing values in training data\")\n",
    "plt.xticks(rotation=90)\n",
    "plt.yticks(rotation=90)\n",
    "plt.show()"
   ]
  },
  {
   "cell_type": "code",
   "execution_count": 15,
   "id": "70719f1f",
   "metadata": {
    "execution": {
     "iopub.execute_input": "2023-09-04T09:50:04.873723Z",
     "iopub.status.busy": "2023-09-04T09:50:04.873248Z",
     "iopub.status.idle": "2023-09-04T09:50:05.620136Z",
     "shell.execute_reply": "2023-09-04T09:50:05.618844Z"
    },
    "papermill": {
     "duration": 0.770422,
     "end_time": "2023-09-04T09:50:05.623170",
     "exception": false,
     "start_time": "2023-09-04T09:50:04.852748",
     "status": "completed"
    },
    "tags": []
   },
   "outputs": [
    {
     "data": {
      "image/png": "[encoded data removed]",
      "text/plain": [
       "<Figure size 1500x500 with 1 Axes>"
      ]
     },
     "metadata": {},
     "output_type": "display_data"
    }
   ],
   "source": [
    "plt.figure(figsize = (15,5))\n",
    "plt.bar(test_data.columns, test_data.isna().sum())\n",
    "plt.xlabel(\"Columns name\")\n",
    "plt.ylabel(\"Number of missing values in training data\")\n",
    "plt.xticks(rotation=90)\n",
    "plt.yticks(rotation=90)\n",
    "plt.show()"
   ]
  },
  {
   "cell_type": "code",
   "execution_count": 16,
   "id": "b85e9c64",
   "metadata": {
    "execution": {
     "iopub.execute_input": "2023-09-04T09:50:05.667510Z",
     "iopub.status.busy": "2023-09-04T09:50:05.667020Z",
     "iopub.status.idle": "2023-09-04T09:50:05.677565Z",
     "shell.execute_reply": "2023-09-04T09:50:05.676417Z"
    },
    "papermill": {
     "duration": 0.035911,
     "end_time": "2023-09-04T09:50:05.679931",
     "exception": false,
     "start_time": "2023-09-04T09:50:05.644020",
     "status": "completed"
    },
    "tags": []
   },
   "outputs": [
    {
     "data": {
      "text/plain": [
       "LotFrontage\n",
       "60.0     143\n",
       "70.0      70\n",
       "80.0      69\n",
       "50.0      57\n",
       "75.0      53\n",
       "        ... \n",
       "137.0      1\n",
       "141.0      1\n",
       "38.0       1\n",
       "140.0      1\n",
       "46.0       1\n",
       "Name: count, Length: 110, dtype: int64"
      ]
     },
     "execution_count": 16,
     "metadata": {},
     "output_type": "execute_result"
    }
   ],
   "source": [
    "train_data['LotFrontage'].value_counts()"
   ]
  },
  {
   "cell_type": "code",
   "execution_count": 17,
   "id": "5984ffc0",
   "metadata": {
    "execution": {
     "iopub.execute_input": "2023-09-04T09:50:05.728297Z",
     "iopub.status.busy": "2023-09-04T09:50:05.727822Z",
     "iopub.status.idle": "2023-09-04T09:50:05.754180Z",
     "shell.execute_reply": "2023-09-04T09:50:05.752807Z"
    },
    "papermill": {
     "duration": 0.055374,
     "end_time": "2023-09-04T09:50:05.756464",
     "exception": false,
     "start_time": "2023-09-04T09:50:05.701090",
     "status": "completed"
    },
    "tags": []
   },
   "outputs": [
    {
     "name": "stdout",
     "output_type": "stream",
     "text": [
      "LotFrontage\n",
      "MasVnrArea\n",
      "BsmtQual\n",
      "BsmtCond\n",
      "BsmtExposure\n",
      "BsmtFinType1\n",
      "BsmtFinType2\n",
      "Electrical\n",
      "GarageType\n",
      "GarageYrBlt\n",
      "GarageFinish\n",
      "GarageQual\n",
      "GarageCond\n"
     ]
    }
   ],
   "source": [
    "for data in train_data:\n",
    "    if train_data[data].isnull().sum()>0:\n",
    "        print(data)"
   ]
  },
  {
   "cell_type": "code",
   "execution_count": 18,
   "id": "80d4e672",
   "metadata": {
    "execution": {
     "iopub.execute_input": "2023-09-04T09:50:05.799952Z",
     "iopub.status.busy": "2023-09-04T09:50:05.799481Z",
     "iopub.status.idle": "2023-09-04T09:50:05.839958Z",
     "shell.execute_reply": "2023-09-04T09:50:05.838779Z"
    },
    "papermill": {
     "duration": 0.06631,
     "end_time": "2023-09-04T09:50:05.843619",
     "exception": false,
     "start_time": "2023-09-04T09:50:05.777309",
     "status": "completed"
    },
    "tags": []
   },
   "outputs": [
    {
     "name": "stdout",
     "output_type": "stream",
     "text": [
      "LotFrontage\n",
      "60.0     143\n",
      "70.0      70\n",
      "80.0      69\n",
      "50.0      57\n",
      "75.0      53\n",
      "        ... \n",
      "137.0      1\n",
      "141.0      1\n",
      "38.0       1\n",
      "140.0      1\n",
      "46.0       1\n",
      "Name: count, Length: 110, dtype: int64\n",
      "********************\n",
      "MasVnrArea\n",
      "0.0      861\n",
      "180.0      8\n",
      "72.0       8\n",
      "108.0      8\n",
      "120.0      7\n",
      "        ... \n",
      "562.0      1\n",
      "89.0       1\n",
      "921.0      1\n",
      "762.0      1\n",
      "119.0      1\n",
      "Name: count, Length: 327, dtype: int64\n",
      "********************\n",
      "BsmtQual\n",
      "TA    649\n",
      "Gd    618\n",
      "Ex    121\n",
      "Fa     35\n",
      "Name: count, dtype: int64\n",
      "********************\n",
      "BsmtCond\n",
      "TA    1311\n",
      "Gd      65\n",
      "Fa      45\n",
      "Po       2\n",
      "Name: count, dtype: int64\n",
      "********************\n",
      "BsmtExposure\n",
      "No    953\n",
      "Av    221\n",
      "Gd    134\n",
      "Mn    114\n",
      "Name: count, dtype: int64\n",
      "********************\n",
      "BsmtFinType1\n",
      "Unf    430\n",
      "GLQ    418\n",
      "ALQ    220\n",
      "BLQ    148\n",
      "Rec    133\n",
      "LwQ     74\n",
      "Name: count, dtype: int64\n",
      "********************\n",
      "BsmtFinType2\n",
      "Unf    1256\n",
      "Rec      54\n",
      "LwQ      46\n",
      "BLQ      33\n",
      "ALQ      19\n",
      "GLQ      14\n",
      "Name: count, dtype: int64\n",
      "********************\n",
      "Electrical\n",
      "SBrkr    1334\n",
      "FuseA      94\n",
      "FuseF      27\n",
      "FuseP       3\n",
      "Mix         1\n",
      "Name: count, dtype: int64\n",
      "********************\n",
      "GarageType\n",
      "Attchd     870\n",
      "Detchd     387\n",
      "BuiltIn     88\n",
      "Basment     19\n",
      "CarPort      9\n",
      "2Types       6\n",
      "Name: count, dtype: int64\n",
      "********************\n",
      "GarageYrBlt\n",
      "2005.0    65\n",
      "2006.0    59\n",
      "2004.0    53\n",
      "2003.0    50\n",
      "2007.0    49\n",
      "          ..\n",
      "1927.0     1\n",
      "1900.0     1\n",
      "1906.0     1\n",
      "1908.0     1\n",
      "1933.0     1\n",
      "Name: count, Length: 97, dtype: int64\n",
      "********************\n",
      "GarageFinish\n",
      "Unf    605\n",
      "RFn    422\n",
      "Fin    352\n",
      "Name: count, dtype: int64\n",
      "********************\n",
      "GarageQual\n",
      "TA    1311\n",
      "Fa      48\n",
      "Gd      14\n",
      "Ex       3\n",
      "Po       3\n",
      "Name: count, dtype: int64\n",
      "********************\n",
      "GarageCond\n",
      "TA    1326\n",
      "Fa      35\n",
      "Gd       9\n",
      "Po       7\n",
      "Ex       2\n",
      "Name: count, dtype: int64\n",
      "********************\n"
     ]
    }
   ],
   "source": [
    "\n",
    "for data in train_data:\n",
    "    if train_data[data].isnull().sum()>0:\n",
    "        print(train_data[data].value_counts())\n",
    "        print('*'*20)\n",
    "    "
   ]
  },
  {
   "cell_type": "code",
   "execution_count": 19,
   "id": "72d03e4b",
   "metadata": {
    "execution": {
     "iopub.execute_input": "2023-09-04T09:50:05.888177Z",
     "iopub.status.busy": "2023-09-04T09:50:05.887690Z",
     "iopub.status.idle": "2023-09-04T09:50:05.943549Z",
     "shell.execute_reply": "2023-09-04T09:50:05.942444Z"
    },
    "papermill": {
     "duration": 0.08293,
     "end_time": "2023-09-04T09:50:05.948265",
     "exception": false,
     "start_time": "2023-09-04T09:50:05.865335",
     "status": "completed"
    },
    "tags": []
   },
   "outputs": [
    {
     "name": "stdout",
     "output_type": "stream",
     "text": [
      "MSZoning\n",
      "RL         1114\n",
      "RM          242\n",
      "FV           74\n",
      "C (all)      15\n",
      "RH           10\n",
      "Name: count, dtype: int64\n",
      "********************\n",
      "LotFrontage\n",
      "60.0     133\n",
      "80.0      68\n",
      "70.0      63\n",
      "50.0      60\n",
      "75.0      52\n",
      "        ... \n",
      "117.0      1\n",
      "31.0       1\n",
      "119.0      1\n",
      "25.0       1\n",
      "140.0      1\n",
      "Name: count, Length: 115, dtype: int64\n",
      "********************\n",
      "Utilities\n",
      "AllPub    1457\n",
      "Name: count, dtype: int64\n",
      "********************\n",
      "Exterior1st\n",
      "VinylSd    510\n",
      "MetalSd    230\n",
      "HdBoard    220\n",
      "Wd Sdng    205\n",
      "Plywood    113\n",
      "CemntBd     65\n",
      "BrkFace     37\n",
      "WdShing     30\n",
      "AsbShng     24\n",
      "Stucco      18\n",
      "BrkComm      4\n",
      "AsphShn      1\n",
      "CBlock       1\n",
      "Name: count, dtype: int64\n",
      "********************\n",
      "Exterior2nd\n",
      "VinylSd    510\n",
      "MetalSd    233\n",
      "HdBoard    199\n",
      "Wd Sdng    194\n",
      "Plywood    128\n",
      "CmentBd     66\n",
      "Wd Shng     43\n",
      "BrkFace     22\n",
      "Stucco      21\n",
      "AsbShng     18\n",
      "Brk Cmn     15\n",
      "ImStucc      5\n",
      "CBlock       2\n",
      "AsphShn      1\n",
      "Stone        1\n",
      "Name: count, dtype: int64\n",
      "********************\n",
      "MasVnrArea\n",
      "0.0       877\n",
      "176.0      10\n",
      "144.0       9\n",
      "120.0       8\n",
      "216.0       8\n",
      "         ... \n",
      "647.0       1\n",
      "1290.0      1\n",
      "495.0       1\n",
      "292.0       1\n",
      "382.0       1\n",
      "Name: count, Length: 303, dtype: int64\n",
      "********************\n",
      "BsmtQual\n",
      "TA    634\n",
      "Gd    591\n",
      "Ex    137\n",
      "Fa     53\n",
      "Name: count, dtype: int64\n",
      "********************\n",
      "BsmtCond\n",
      "TA    1295\n",
      "Fa      59\n",
      "Gd      57\n",
      "Po       3\n",
      "Name: count, dtype: int64\n",
      "********************\n",
      "BsmtExposure\n",
      "No    951\n",
      "Av    197\n",
      "Gd    142\n",
      "Mn    125\n",
      "Name: count, dtype: int64\n",
      "********************\n",
      "BsmtFinType1\n",
      "GLQ    431\n",
      "Unf    421\n",
      "ALQ    209\n",
      "Rec    155\n",
      "BLQ    121\n",
      "LwQ     80\n",
      "Name: count, dtype: int64\n",
      "********************\n",
      "BsmtFinSF1\n",
      "0.0       462\n",
      "24.0       15\n",
      "276.0       6\n",
      "602.0       6\n",
      "300.0       5\n",
      "         ... \n",
      "1337.0      1\n",
      "656.0       1\n",
      "706.0       1\n",
      "496.0       1\n",
      "337.0       1\n",
      "Name: count, Length: 669, dtype: int64\n",
      "********************\n",
      "BsmtFinType2\n",
      "Unf    1237\n",
      "Rec      51\n",
      "LwQ      41\n",
      "BLQ      35\n",
      "ALQ      33\n",
      "GLQ      20\n",
      "Name: count, dtype: int64\n",
      "********************\n",
      "BsmtFinSF2\n",
      "0.0      1278\n",
      "483.0       3\n",
      "162.0       3\n",
      "294.0       3\n",
      "144.0       2\n",
      "         ... \n",
      "110.0       1\n",
      "186.0       1\n",
      "449.0       1\n",
      "48.0        1\n",
      "344.0       1\n",
      "Name: count, Length: 161, dtype: int64\n",
      "********************\n",
      "BsmtUnfSF\n",
      "0.0       123\n",
      "384.0      11\n",
      "624.0       8\n",
      "738.0       7\n",
      "100.0       7\n",
      "         ... \n",
      "36.0        1\n",
      "892.0       1\n",
      "747.0       1\n",
      "1216.0      1\n",
      "1503.0      1\n",
      "Name: count, Length: 793, dtype: int64\n",
      "********************\n",
      "TotalBsmtSF\n",
      "0.0       41\n",
      "864.0     39\n",
      "960.0     13\n",
      "546.0     12\n",
      "768.0     12\n",
      "          ..\n",
      "1146.0     1\n",
      "1415.0     1\n",
      "764.0      1\n",
      "1367.0     1\n",
      "996.0      1\n",
      "Name: count, Length: 736, dtype: int64\n",
      "********************\n",
      "BsmtFullBath\n",
      "0.0    849\n",
      "1.0    584\n",
      "2.0     23\n",
      "3.0      1\n",
      "Name: count, dtype: int64\n",
      "********************\n",
      "BsmtHalfBath\n",
      "0.0    1364\n",
      "1.0      91\n",
      "2.0       2\n",
      "Name: count, dtype: int64\n",
      "********************\n",
      "KitchenQual\n",
      "TA    757\n",
      "Gd    565\n",
      "Ex    105\n",
      "Fa     31\n",
      "Name: count, dtype: int64\n",
      "********************\n",
      "Functional\n",
      "Typ     1357\n",
      "Min2      36\n",
      "Min1      34\n",
      "Mod       20\n",
      "Maj1       5\n",
      "Maj2       4\n",
      "Sev        1\n",
      "Name: count, dtype: int64\n",
      "********************\n",
      "GarageType\n",
      "Attchd     853\n",
      "Detchd     392\n",
      "BuiltIn     98\n",
      "Basment     17\n",
      "2Types      17\n",
      "CarPort      6\n",
      "Name: count, dtype: int64\n",
      "********************\n",
      "GarageYrBlt\n",
      "2005.0    77\n",
      "2007.0    66\n",
      "2006.0    56\n",
      "2004.0    46\n",
      "2003.0    42\n",
      "          ..\n",
      "1918.0     1\n",
      "1895.0     1\n",
      "1932.0     1\n",
      "1916.0     1\n",
      "1919.0     1\n",
      "Name: count, Length: 97, dtype: int64\n",
      "********************\n",
      "GarageFinish\n",
      "Unf    625\n",
      "RFn    389\n",
      "Fin    367\n",
      "Name: count, dtype: int64\n",
      "********************\n",
      "GarageCars\n",
      "2.0    770\n",
      "1.0    407\n",
      "3.0    193\n",
      "0.0     76\n",
      "4.0     11\n",
      "5.0      1\n",
      "Name: count, dtype: int64\n",
      "********************\n",
      "GarageArea\n",
      "0.0       76\n",
      "576.0     50\n",
      "440.0     47\n",
      "484.0     34\n",
      "400.0     33\n",
      "          ..\n",
      "453.0      1\n",
      "1348.0     1\n",
      "567.0      1\n",
      "811.0      1\n",
      "682.0      1\n",
      "Name: count, Length: 459, dtype: int64\n",
      "********************\n",
      "GarageQual\n",
      "TA    1293\n",
      "Fa      76\n",
      "Gd      10\n",
      "Po       2\n",
      "Name: count, dtype: int64\n",
      "********************\n",
      "GarageCond\n",
      "TA    1328\n",
      "Fa      39\n",
      "Po       7\n",
      "Gd       6\n",
      "Ex       1\n",
      "Name: count, dtype: int64\n",
      "********************\n",
      "SaleType\n",
      "WD       1258\n",
      "New       117\n",
      "COD        44\n",
      "ConLD      17\n",
      "CWD         8\n",
      "Oth         4\n",
      "ConLI       4\n",
      "Con         3\n",
      "ConLw       3\n",
      "Name: count, dtype: int64\n",
      "********************\n"
     ]
    }
   ],
   "source": [
    "\n",
    "for data in test_data:\n",
    "    if test_data[data].isnull().sum()>0:\n",
    "        print(test_data[data].value_counts())\n",
    "        print('*'*20)"
   ]
  },
  {
   "cell_type": "code",
   "execution_count": 20,
   "id": "5d416306",
   "metadata": {
    "execution": {
     "iopub.execute_input": "2023-09-04T09:50:05.993140Z",
     "iopub.status.busy": "2023-09-04T09:50:05.991725Z",
     "iopub.status.idle": "2023-09-04T09:50:05.997817Z",
     "shell.execute_reply": "2023-09-04T09:50:05.996622Z"
    },
    "papermill": {
     "duration": 0.030592,
     "end_time": "2023-09-04T09:50:06.000352",
     "exception": false,
     "start_time": "2023-09-04T09:50:05.969760",
     "status": "completed"
    },
    "tags": []
   },
   "outputs": [],
   "source": [
    "combined_data = [train_data, test_data]"
   ]
  },
  {
   "cell_type": "code",
   "execution_count": 21,
   "id": "0e3b28b3",
   "metadata": {
    "execution": {
     "iopub.execute_input": "2023-09-04T09:50:06.045364Z",
     "iopub.status.busy": "2023-09-04T09:50:06.044670Z",
     "iopub.status.idle": "2023-09-04T09:50:06.072692Z",
     "shell.execute_reply": "2023-09-04T09:50:06.071386Z"
    },
    "papermill": {
     "duration": 0.053336,
     "end_time": "2023-09-04T09:50:06.075655",
     "exception": false,
     "start_time": "2023-09-04T09:50:06.022319",
     "status": "completed"
    },
    "tags": []
   },
   "outputs": [],
   "source": [
    "for data in combined_data:\n",
    "    for i in data:\n",
    "        if data[i].dtypes=='int64' or data[i].dtypes=='float64':\n",
    "            data[i].fillna(data[i].mean(),inplace=True)\n",
    "    "
   ]
  },
  {
   "cell_type": "code",
   "execution_count": 22,
   "id": "5c36bfc3",
   "metadata": {
    "execution": {
     "iopub.execute_input": "2023-09-04T09:50:06.120741Z",
     "iopub.status.busy": "2023-09-04T09:50:06.120256Z",
     "iopub.status.idle": "2023-09-04T09:50:06.296500Z",
     "shell.execute_reply": "2023-09-04T09:50:06.295155Z"
    },
    "papermill": {
     "duration": 0.202742,
     "end_time": "2023-09-04T09:50:06.299576",
     "exception": false,
     "start_time": "2023-09-04T09:50:06.096834",
     "status": "completed"
    },
    "tags": []
   },
   "outputs": [],
   "source": [
    "from sklearn.preprocessing import LabelEncoder"
   ]
  },
  {
   "cell_type": "code",
   "execution_count": 23,
   "id": "005fc7f5",
   "metadata": {
    "execution": {
     "iopub.execute_input": "2023-09-04T09:50:06.345980Z",
     "iopub.status.busy": "2023-09-04T09:50:06.344996Z",
     "iopub.status.idle": "2023-09-04T09:50:06.349876Z",
     "shell.execute_reply": "2023-09-04T09:50:06.348930Z"
    },
    "papermill": {
     "duration": 0.030474,
     "end_time": "2023-09-04T09:50:06.352390",
     "exception": false,
     "start_time": "2023-09-04T09:50:06.321916",
     "status": "completed"
    },
    "tags": []
   },
   "outputs": [],
   "source": [
    "le=LabelEncoder()"
   ]
  },
  {
   "cell_type": "code",
   "execution_count": 24,
   "id": "3d447403",
   "metadata": {
    "execution": {
     "iopub.execute_input": "2023-09-04T09:50:06.397907Z",
     "iopub.status.busy": "2023-09-04T09:50:06.397230Z",
     "iopub.status.idle": "2023-09-04T09:50:06.456628Z",
     "shell.execute_reply": "2023-09-04T09:50:06.455732Z"
    },
    "papermill": {
     "duration": 0.085591,
     "end_time": "2023-09-04T09:50:06.459358",
     "exception": false,
     "start_time": "2023-09-04T09:50:06.373767",
     "status": "completed"
    },
    "tags": []
   },
   "outputs": [],
   "source": [
    "for data in combined_data:\n",
    "    for i in data:\n",
    "        if data[i].dtypes=='object':\n",
    "            data[i].fillna(data[i].value_counts().keys()[0],inplace=True)"
   ]
  },
  {
   "cell_type": "code",
   "execution_count": 25,
   "id": "a62718b5",
   "metadata": {
    "execution": {
     "iopub.execute_input": "2023-09-04T09:50:06.503796Z",
     "iopub.status.busy": "2023-09-04T09:50:06.503131Z",
     "iopub.status.idle": "2023-09-04T09:50:06.560832Z",
     "shell.execute_reply": "2023-09-04T09:50:06.559745Z"
    },
    "papermill": {
     "duration": 0.083165,
     "end_time": "2023-09-04T09:50:06.563824",
     "exception": false,
     "start_time": "2023-09-04T09:50:06.480659",
     "status": "completed"
    },
    "tags": []
   },
   "outputs": [],
   "source": [
    "for data in combined_data:\n",
    "    for i in data:\n",
    "        if data[i].dtypes=='object':\n",
    "            data[i]=le.fit_transform(data[i])"
   ]
  },
  {
   "cell_type": "code",
   "execution_count": 26,
   "id": "e265421d",
   "metadata": {
    "execution": {
     "iopub.execute_input": "2023-09-04T09:50:06.616244Z",
     "iopub.status.busy": "2023-09-04T09:50:06.615447Z",
     "iopub.status.idle": "2023-09-04T09:50:07.175974Z",
     "shell.execute_reply": "2023-09-04T09:50:07.174486Z"
    },
    "papermill": {
     "duration": 0.590723,
     "end_time": "2023-09-04T09:50:07.179327",
     "exception": false,
     "start_time": "2023-09-04T09:50:06.588604",
     "status": "completed"
    },
    "tags": []
   },
   "outputs": [],
   "source": [
    "from sklearn.ensemble import RandomForestRegressor,GradientBoostingRegressor\n",
    "from sklearn.metrics import mean_squared_error"
   ]
  },
  {
   "cell_type": "code",
   "execution_count": 27,
   "id": "43e34688",
   "metadata": {
    "execution": {
     "iopub.execute_input": "2023-09-04T09:50:07.234713Z",
     "iopub.status.busy": "2023-09-04T09:50:07.233432Z",
     "iopub.status.idle": "2023-09-04T09:50:07.243428Z",
     "shell.execute_reply": "2023-09-04T09:50:07.242398Z"
    },
    "papermill": {
     "duration": 0.037965,
     "end_time": "2023-09-04T09:50:07.246043",
     "exception": false,
     "start_time": "2023-09-04T09:50:07.208078",
     "status": "completed"
    },
    "tags": []
   },
   "outputs": [],
   "source": [
    "X_train = train_data.drop(\"SalePrice\", axis=1)\n",
    "Y_train = train_data[\"SalePrice\"]"
   ]
  },
  {
   "cell_type": "code",
   "execution_count": 28,
   "id": "bce886d2",
   "metadata": {
    "execution": {
     "iopub.execute_input": "2023-09-04T09:50:07.293131Z",
     "iopub.status.busy": "2023-09-04T09:50:07.291622Z",
     "iopub.status.idle": "2023-09-04T09:50:07.299528Z",
     "shell.execute_reply": "2023-09-04T09:50:07.298126Z"
    },
    "papermill": {
     "duration": 0.033729,
     "end_time": "2023-09-04T09:50:07.302098",
     "exception": false,
     "start_time": "2023-09-04T09:50:07.268369",
     "status": "completed"
    },
    "tags": []
   },
   "outputs": [
    {
     "name": "stdout",
     "output_type": "stream",
     "text": [
      "shape of X_train (1460, 74)\n",
      "Shape of Y_train (1460,)\n"
     ]
    }
   ],
   "source": [
    "print(\"shape of X_train\",X_train.shape)\n",
    "print(\"Shape of Y_train\",Y_train.shape)"
   ]
  },
  {
   "cell_type": "code",
   "execution_count": 29,
   "id": "9dd609f5",
   "metadata": {
    "execution": {
     "iopub.execute_input": "2023-09-04T09:50:07.346669Z",
     "iopub.status.busy": "2023-09-04T09:50:07.345991Z",
     "iopub.status.idle": "2023-09-04T09:50:07.351597Z",
     "shell.execute_reply": "2023-09-04T09:50:07.350463Z"
    },
    "papermill": {
     "duration": 0.030983,
     "end_time": "2023-09-04T09:50:07.354261",
     "exception": false,
     "start_time": "2023-09-04T09:50:07.323278",
     "status": "completed"
    },
    "tags": []
   },
   "outputs": [],
   "source": [
    "rf_model = RandomForestRegressor(random_state=1)"
   ]
  },
  {
   "cell_type": "code",
   "execution_count": 30,
   "id": "897b31db",
   "metadata": {
    "execution": {
     "iopub.execute_input": "2023-09-04T09:50:07.399226Z",
     "iopub.status.busy": "2023-09-04T09:50:07.398785Z",
     "iopub.status.idle": "2023-09-04T09:50:09.902563Z",
     "shell.execute_reply": "2023-09-04T09:50:09.901151Z"
    },
    "papermill": {
     "duration": 2.529956,
     "end_time": "2023-09-04T09:50:09.905732",
     "exception": false,
     "start_time": "2023-09-04T09:50:07.375776",
     "status": "completed"
    },
    "tags": []
   },
   "outputs": [
    {
     "data": {
      "text/html": [
       "<style>#sk-container-id-1 {color: black;background-color: white;}#sk-container-id-1 pre{padding: 0;}#sk-container-id-1 div.sk-toggleable {background-color: white;}#sk-container-id-1 label.sk-toggleable__label {cursor: pointer;display: block;width: 100%;margin-bottom: 0;padding: 0.3em;box-sizing: border-box;text-align: center;}#sk-container-id-1 label.sk-toggleable__label-arrow:before {content: \"▸\";float: left;margin-right: 0.25em;color: #696969;}#sk-container-id-1 label.sk-toggleable__label-arrow:hover:before {color: black;}#sk-container-id-1 div.sk-estimator:hover label.sk-toggleable__label-arrow:before {color: black;}#sk-container-id-1 div.sk-toggleable__content {max-height: 0;max-width: 0;overflow: hidden;text-align: left;background-color: #f0f8ff;}#sk-container-id-1 div.sk-toggleable__content pre {margin: 0.2em;color: black;border-radius: 0.25em;background-color: #f0f8ff;}#sk-container-id-1 input.sk-toggleable__control:checked~div.sk-toggleable__content {max-height: 200px;max-width: 100%;overflow: auto;}#sk-container-id-1 input.sk-toggleable__control:checked~label.sk-toggleable__label-arrow:before {content: \"▾\";}#sk-container-id-1 div.sk-estimator input.sk-toggleable__control:checked~label.sk-toggleable__label {background-color: #d4ebff;}#sk-container-id-1 div.sk-label input.sk-toggleable__control:checked~label.sk-toggleable__label {background-color: #d4ebff;}#sk-container-id-1 input.sk-hidden--visually {border: 0;clip: rect(1px 1px 1px 1px);clip: rect(1px, 1px, 1px, 1px);height: 1px;margin: -1px;overflow: hidden;padding: 0;position: absolute;width: 1px;}#sk-container-id-1 div.sk-estimator {font-family: monospace;background-color: #f0f8ff;border: 1px dotted black;border-radius: 0.25em;box-sizing: border-box;margin-bottom: 0.5em;}#sk-container-id-1 div.sk-estimator:hover {background-color: #d4ebff;}#sk-container-id-1 div.sk-parallel-item::after {content: \"\";width: 100%;border-bottom: 1px solid gray;flex-grow: 1;}#sk-container-id-1 div.sk-label:hover label.sk-toggleable__label {background-color: #d4ebff;}#sk-container-id-1 div.sk-serial::before {content: \"\";position: absolute;border-left: 1px solid gray;box-sizing: border-box;top: 0;bottom: 0;left: 50%;z-index: 0;}#sk-container-id-1 div.sk-serial {display: flex;flex-direction: column;align-items: center;background-color: white;padding-right: 0.2em;padding-left: 0.2em;position: relative;}#sk-container-id-1 div.sk-item {position: relative;z-index: 1;}#sk-container-id-1 div.sk-parallel {display: flex;align-items: stretch;justify-content: center;background-color: white;position: relative;}#sk-container-id-1 div.sk-item::before, #sk-container-id-1 div.sk-parallel-item::before {content: \"\";position: absolute;border-left: 1px solid gray;box-sizing: border-box;top: 0;bottom: 0;left: 50%;z-index: -1;}#sk-container-id-1 div.sk-parallel-item {display: flex;flex-direction: column;z-index: 1;position: relative;background-color: white;}#sk-container-id-1 div.sk-parallel-item:first-child::after {align-self: flex-end;width: 50%;}#sk-container-id-1 div.sk-parallel-item:last-child::after {align-self: flex-start;width: 50%;}#sk-container-id-1 div.sk-parallel-item:only-child::after {width: 0;}#sk-container-id-1 div.sk-dashed-wrapped {border: 1px dashed gray;margin: 0 0.4em 0.5em 0.4em;box-sizing: border-box;padding-bottom: 0.4em;background-color: white;}#sk-container-id-1 div.sk-label label {font-family: monospace;font-weight: bold;display: inline-block;line-height: 1.2em;}#sk-container-id-1 div.sk-label-container {text-align: center;}#sk-container-id-1 div.sk-container {/* jupyter's `normalize.less` sets `[hidden] { display: none; }` but bootstrap.min.css set `[hidden] { display: none !important; }` so we also need the `!important` here to be able to override the default hidden behavior on the sphinx rendered scikit-learn.org. See: https://github.com/scikit-learn/scikit-learn/issues/21755 */display: inline-block !important;position: relative;}#sk-container-id-1 div.sk-text-repr-fallback {display: none;}</style><div id=\"sk-container-id-1\" class=\"sk-top-container\"><div class=\"sk-text-repr-fallback\"><pre>RandomForestRegressor(random_state=1)</pre><b>In a Jupyter environment, please rerun this cell to show the HTML representation or trust the notebook. <br />On GitHub, the HTML representation is unable to render, please try loading this page with nbviewer.org.</b></div><div class=\"sk-container\" hidden><div class=\"sk-item\"><div class=\"sk-estimator sk-toggleable\"><input class=\"sk-toggleable__control sk-hidden--visually\" id=\"sk-estimator-id-1\" type=\"checkbox\" checked><label for=\"sk-estimator-id-1\" class=\"sk-toggleable__label sk-toggleable__label-arrow\">RandomForestRegressor</label><div class=\"sk-toggleable__content\"><pre>RandomForestRegressor(random_state=1)</pre></div></div></div></div></div>"
      ],
      "text/plain": [
       "RandomForestRegressor(random_state=1)"
      ]
     },
     "execution_count": 30,
     "metadata": {},
     "output_type": "execute_result"
    }
   ],
   "source": [
    "rf_model.fit(X_train, Y_train)"
   ]
  },
  {
   "cell_type": "code",
   "execution_count": 31,
   "id": "914e6c6f",
   "metadata": {
    "execution": {
     "iopub.execute_input": "2023-09-04T09:50:09.956659Z",
     "iopub.status.busy": "2023-09-04T09:50:09.956228Z",
     "iopub.status.idle": "2023-09-04T09:50:09.997576Z",
     "shell.execute_reply": "2023-09-04T09:50:09.996439Z"
    },
    "papermill": {
     "duration": 0.069248,
     "end_time": "2023-09-04T09:50:10.000476",
     "exception": false,
     "start_time": "2023-09-04T09:50:09.931228",
     "status": "completed"
    },
    "tags": []
   },
   "outputs": [],
   "source": [
    "rf_train_predictions=rf_model.predict(X_train)"
   ]
  },
  {
   "cell_type": "code",
   "execution_count": 32,
   "id": "ad877dc4",
   "metadata": {
    "execution": {
     "iopub.execute_input": "2023-09-04T09:50:10.047922Z",
     "iopub.status.busy": "2023-09-04T09:50:10.047501Z",
     "iopub.status.idle": "2023-09-04T09:50:10.086591Z",
     "shell.execute_reply": "2023-09-04T09:50:10.085602Z"
    },
    "papermill": {
     "duration": 0.066222,
     "end_time": "2023-09-04T09:50:10.089470",
     "exception": false,
     "start_time": "2023-09-04T09:50:10.023248",
     "status": "completed"
    },
    "tags": []
   },
   "outputs": [],
   "source": [
    "rf_val_predictions = rf_model.predict(test_data)"
   ]
  },
  {
   "cell_type": "code",
   "execution_count": 33,
   "id": "4cf1b60c",
   "metadata": {
    "execution": {
     "iopub.execute_input": "2023-09-04T09:50:10.136095Z",
     "iopub.status.busy": "2023-09-04T09:50:10.135580Z",
     "iopub.status.idle": "2023-09-04T09:50:10.144668Z",
     "shell.execute_reply": "2023-09-04T09:50:10.143369Z"
    },
    "papermill": {
     "duration": 0.03631,
     "end_time": "2023-09-04T09:50:10.147358",
     "exception": false,
     "start_time": "2023-09-04T09:50:10.111048",
     "status": "completed"
    },
    "tags": []
   },
   "outputs": [
    {
     "data": {
      "text/plain": [
       "array([127243.66, 154558.25, 181908.98, ..., 153520.09, 115764.  ,\n",
       "       224307.33])"
      ]
     },
     "execution_count": 33,
     "metadata": {},
     "output_type": "execute_result"
    }
   ],
   "source": [
    "rf_val_predictions"
   ]
  },
  {
   "cell_type": "code",
   "execution_count": 34,
   "id": "2ec3b195",
   "metadata": {
    "execution": {
     "iopub.execute_input": "2023-09-04T09:50:10.193598Z",
     "iopub.status.busy": "2023-09-04T09:50:10.193161Z",
     "iopub.status.idle": "2023-09-04T09:50:10.199933Z",
     "shell.execute_reply": "2023-09-04T09:50:10.198525Z"
    },
    "papermill": {
     "duration": 0.033256,
     "end_time": "2023-09-04T09:50:10.202652",
     "exception": false,
     "start_time": "2023-09-04T09:50:10.169396",
     "status": "completed"
    },
    "tags": []
   },
   "outputs": [],
   "source": [
    "rf_val_mae = mean_squared_error(Y_train,rf_train_predictions)"
   ]
  },
  {
   "cell_type": "code",
   "execution_count": 35,
   "id": "bd7ede2b",
   "metadata": {
    "execution": {
     "iopub.execute_input": "2023-09-04T09:50:10.247432Z",
     "iopub.status.busy": "2023-09-04T09:50:10.246948Z",
     "iopub.status.idle": "2023-09-04T09:50:10.252788Z",
     "shell.execute_reply": "2023-09-04T09:50:10.251735Z"
    },
    "papermill": {
     "duration": 0.030823,
     "end_time": "2023-09-04T09:50:10.255105",
     "exception": false,
     "start_time": "2023-09-04T09:50:10.224282",
     "status": "completed"
    },
    "tags": []
   },
   "outputs": [
    {
     "name": "stdout",
     "output_type": "stream",
     "text": [
      "Validation MSE for Random Forest Model: 113,317,467\n"
     ]
    }
   ],
   "source": [
    "print(\"Validation MSE for Random Forest Model: {:,.0f}\".format(rf_val_mae))"
   ]
  },
  {
   "cell_type": "code",
   "execution_count": 36,
   "id": "272b0731",
   "metadata": {
    "execution": {
     "iopub.execute_input": "2023-09-04T09:50:10.301883Z",
     "iopub.status.busy": "2023-09-04T09:50:10.301427Z",
     "iopub.status.idle": "2023-09-04T09:50:10.314352Z",
     "shell.execute_reply": "2023-09-04T09:50:10.313253Z"
    },
    "papermill": {
     "duration": 0.039824,
     "end_time": "2023-09-04T09:50:10.317254",
     "exception": false,
     "start_time": "2023-09-04T09:50:10.277430",
     "status": "completed"
    },
    "tags": []
   },
   "outputs": [],
   "source": [
    "outputRF = pd.DataFrame({'Id': test_data.Id,\n",
    "                       'SalePrice': rf_val_predictions})\n",
    "outputRF.to_csv('submissionRF.csv', index=False)"
   ]
  },
  {
   "cell_type": "code",
   "execution_count": null,
   "id": "8a5b9768",
   "metadata": {
    "papermill": {
     "duration": 0.022868,
     "end_time": "2023-09-04T09:50:10.362691",
     "exception": false,
     "start_time": "2023-09-04T09:50:10.339823",
     "status": "completed"
    },
    "tags": []
   },
   "outputs": [],
   "source": []
  },
  {
   "cell_type": "code",
   "execution_count": 37,
   "id": "892ebac7",
   "metadata": {
    "execution": {
     "iopub.execute_input": "2023-09-04T09:50:10.408643Z",
     "iopub.status.busy": "2023-09-04T09:50:10.408200Z",
     "iopub.status.idle": "2023-09-04T09:50:10.412654Z",
     "shell.execute_reply": "2023-09-04T09:50:10.411666Z"
    },
    "papermill": {
     "duration": 0.030233,
     "end_time": "2023-09-04T09:50:10.414870",
     "exception": false,
     "start_time": "2023-09-04T09:50:10.384637",
     "status": "completed"
    },
    "tags": []
   },
   "outputs": [],
   "source": [
    "gpr=GradientBoostingRegressor(random_state=1)"
   ]
  },
  {
   "cell_type": "code",
   "execution_count": 38,
   "id": "279b5746",
   "metadata": {
    "execution": {
     "iopub.execute_input": "2023-09-04T09:50:10.461655Z",
     "iopub.status.busy": "2023-09-04T09:50:10.461194Z",
     "iopub.status.idle": "2023-09-04T09:50:11.349981Z",
     "shell.execute_reply": "2023-09-04T09:50:11.348754Z"
    },
    "papermill": {
     "duration": 0.915025,
     "end_time": "2023-09-04T09:50:11.352770",
     "exception": false,
     "start_time": "2023-09-04T09:50:10.437745",
     "status": "completed"
    },
    "tags": []
   },
   "outputs": [
    {
     "data": {
      "text/html": [
       "<style>#sk-container-id-2 {color: black;background-color: white;}#sk-container-id-2 pre{padding: 0;}#sk-container-id-2 div.sk-toggleable {background-color: white;}#sk-container-id-2 label.sk-toggleable__label {cursor: pointer;display: block;width: 100%;margin-bottom: 0;padding: 0.3em;box-sizing: border-box;text-align: center;}#sk-container-id-2 label.sk-toggleable__label-arrow:before {content: \"▸\";float: left;margin-right: 0.25em;color: #696969;}#sk-container-id-2 label.sk-toggleable__label-arrow:hover:before {color: black;}#sk-container-id-2 div.sk-estimator:hover label.sk-toggleable__label-arrow:before {color: black;}#sk-container-id-2 div.sk-toggleable__content {max-height: 0;max-width: 0;overflow: hidden;text-align: left;background-color: #f0f8ff;}#sk-container-id-2 div.sk-toggleable__content pre {margin: 0.2em;color: black;border-radius: 0.25em;background-color: #f0f8ff;}#sk-container-id-2 input.sk-toggleable__control:checked~div.sk-toggleable__content {max-height: 200px;max-width: 100%;overflow: auto;}#sk-container-id-2 input.sk-toggleable__control:checked~label.sk-toggleable__label-arrow:before {content: \"▾\";}#sk-container-id-2 div.sk-estimator input.sk-toggleable__control:checked~label.sk-toggleable__label {background-color: #d4ebff;}#sk-container-id-2 div.sk-label input.sk-toggleable__control:checked~label.sk-toggleable__label {background-color: #d4ebff;}#sk-container-id-2 input.sk-hidden--visually {border: 0;clip: rect(1px 1px 1px 1px);clip: rect(1px, 1px, 1px, 1px);height: 1px;margin: -1px;overflow: hidden;padding: 0;position: absolute;width: 1px;}#sk-container-id-2 div.sk-estimator {font-family: monospace;background-color: #f0f8ff;border: 1px dotted black;border-radius: 0.25em;box-sizing: border-box;margin-bottom: 0.5em;}#sk-container-id-2 div.sk-estimator:hover {background-color: #d4ebff;}#sk-container-id-2 div.sk-parallel-item::after {content: \"\";width: 100%;border-bottom: 1px solid gray;flex-grow: 1;}#sk-container-id-2 div.sk-label:hover label.sk-toggleable__label {background-color: #d4ebff;}#sk-container-id-2 div.sk-serial::before {content: \"\";position: absolute;border-left: 1px solid gray;box-sizing: border-box;top: 0;bottom: 0;left: 50%;z-index: 0;}#sk-container-id-2 div.sk-serial {display: flex;flex-direction: column;align-items: center;background-color: white;padding-right: 0.2em;padding-left: 0.2em;position: relative;}#sk-container-id-2 div.sk-item {position: relative;z-index: 1;}#sk-container-id-2 div.sk-parallel {display: flex;align-items: stretch;justify-content: center;background-color: white;position: relative;}#sk-container-id-2 div.sk-item::before, #sk-container-id-2 div.sk-parallel-item::before {content: \"\";position: absolute;border-left: 1px solid gray;box-sizing: border-box;top: 0;bottom: 0;left: 50%;z-index: -1;}#sk-container-id-2 div.sk-parallel-item {display: flex;flex-direction: column;z-index: 1;position: relative;background-color: white;}#sk-container-id-2 div.sk-parallel-item:first-child::after {align-self: flex-end;width: 50%;}#sk-container-id-2 div.sk-parallel-item:last-child::after {align-self: flex-start;width: 50%;}#sk-container-id-2 div.sk-parallel-item:only-child::after {width: 0;}#sk-container-id-2 div.sk-dashed-wrapped {border: 1px dashed gray;margin: 0 0.4em 0.5em 0.4em;box-sizing: border-box;padding-bottom: 0.4em;background-color: white;}#sk-container-id-2 div.sk-label label {font-family: monospace;font-weight: bold;display: inline-block;line-height: 1.2em;}#sk-container-id-2 div.sk-label-container {text-align: center;}#sk-container-id-2 div.sk-container {/* jupyter's `normalize.less` sets `[hidden] { display: none; }` but bootstrap.min.css set `[hidden] { display: none !important; }` so we also need the `!important` here to be able to override the default hidden behavior on the sphinx rendered scikit-learn.org. See: https://github.com/scikit-learn/scikit-learn/issues/21755 */display: inline-block !important;position: relative;}#sk-container-id-2 div.sk-text-repr-fallback {display: none;}</style><div id=\"sk-container-id-2\" class=\"sk-top-container\"><div class=\"sk-text-repr-fallback\"><pre>GradientBoostingRegressor(random_state=1)</pre><b>In a Jupyter environment, please rerun this cell to show the HTML representation or trust the notebook. <br />On GitHub, the HTML representation is unable to render, please try loading this page with nbviewer.org.</b></div><div class=\"sk-container\" hidden><div class=\"sk-item\"><div class=\"sk-estimator sk-toggleable\"><input class=\"sk-toggleable__control sk-hidden--visually\" id=\"sk-estimator-id-2\" type=\"checkbox\" checked><label for=\"sk-estimator-id-2\" class=\"sk-toggleable__label sk-toggleable__label-arrow\">GradientBoostingRegressor</label><div class=\"sk-toggleable__content\"><pre>GradientBoostingRegressor(random_state=1)</pre></div></div></div></div></div>"
      ],
      "text/plain": [
       "GradientBoostingRegressor(random_state=1)"
      ]
     },
     "execution_count": 38,
     "metadata": {},
     "output_type": "execute_result"
    }
   ],
   "source": [
    "gpr.fit(X_train, Y_train)"
   ]
  },
  {
   "cell_type": "code",
   "execution_count": 39,
   "id": "f71515a5",
   "metadata": {
    "execution": {
     "iopub.execute_input": "2023-09-04T09:50:11.402086Z",
     "iopub.status.busy": "2023-09-04T09:50:11.401623Z",
     "iopub.status.idle": "2023-09-04T09:50:11.413240Z",
     "shell.execute_reply": "2023-09-04T09:50:11.412186Z"
    },
    "papermill": {
     "duration": 0.038952,
     "end_time": "2023-09-04T09:50:11.415811",
     "exception": false,
     "start_time": "2023-09-04T09:50:11.376859",
     "status": "completed"
    },
    "tags": []
   },
   "outputs": [],
   "source": [
    "gpr_train_predictions=gpr.predict(X_train)"
   ]
  },
  {
   "cell_type": "code",
   "execution_count": 40,
   "id": "c6437fcd",
   "metadata": {
    "execution": {
     "iopub.execute_input": "2023-09-04T09:50:11.462905Z",
     "iopub.status.busy": "2023-09-04T09:50:11.462483Z",
     "iopub.status.idle": "2023-09-04T09:50:11.474178Z",
     "shell.execute_reply": "2023-09-04T09:50:11.473194Z"
    },
    "papermill": {
     "duration": 0.038606,
     "end_time": "2023-09-04T09:50:11.476854",
     "exception": false,
     "start_time": "2023-09-04T09:50:11.438248",
     "status": "completed"
    },
    "tags": []
   },
   "outputs": [],
   "source": [
    "gpr_test_predictions=gpr.predict(test_data)"
   ]
  },
  {
   "cell_type": "code",
   "execution_count": 41,
   "id": "db2fd334",
   "metadata": {
    "execution": {
     "iopub.execute_input": "2023-09-04T09:50:11.523088Z",
     "iopub.status.busy": "2023-09-04T09:50:11.522653Z",
     "iopub.status.idle": "2023-09-04T09:50:11.529534Z",
     "shell.execute_reply": "2023-09-04T09:50:11.528294Z"
    },
    "papermill": {
     "duration": 0.032985,
     "end_time": "2023-09-04T09:50:11.532385",
     "exception": false,
     "start_time": "2023-09-04T09:50:11.499400",
     "status": "completed"
    },
    "tags": []
   },
   "outputs": [
    {
     "name": "stdout",
     "output_type": "stream",
     "text": [
      "Validation MSE for Random Forest Model: 226,499,550\n"
     ]
    }
   ],
   "source": [
    "gpr_val_mae =mean_squared_error(Y_train,gpr_train_predictions)\n",
    "print(\"Validation MSE for Random Forest Model: {:,.0f}\".format(gpr_val_mae))"
   ]
  },
  {
   "cell_type": "code",
   "execution_count": 42,
   "id": "2720ae0a",
   "metadata": {
    "execution": {
     "iopub.execute_input": "2023-09-04T09:50:11.578772Z",
     "iopub.status.busy": "2023-09-04T09:50:11.578338Z",
     "iopub.status.idle": "2023-09-04T09:50:11.590803Z",
     "shell.execute_reply": "2023-09-04T09:50:11.589545Z"
    },
    "papermill": {
     "duration": 0.039116,
     "end_time": "2023-09-04T09:50:11.593652",
     "exception": false,
     "start_time": "2023-09-04T09:50:11.554536",
     "status": "completed"
    },
    "tags": []
   },
   "outputs": [],
   "source": [
    "outputGPR = pd.DataFrame({'Id': test_data.Id,\n",
    "                       'SalePrice': gpr_test_predictions})\n",
    "outputGPR.to_csv('submissionGPR.csv', index=False)"
   ]
  },
  {
   "cell_type": "code",
   "execution_count": 43,
   "id": "a9f9ec23",
   "metadata": {
    "execution": {
     "iopub.execute_input": "2023-09-04T09:50:11.640615Z",
     "iopub.status.busy": "2023-09-04T09:50:11.640159Z",
     "iopub.status.idle": "2023-09-04T09:50:21.198353Z",
     "shell.execute_reply": "2023-09-04T09:50:21.197228Z"
    },
    "papermill": {
     "duration": 9.584703,
     "end_time": "2023-09-04T09:50:21.201052",
     "exception": false,
     "start_time": "2023-09-04T09:50:11.616349",
     "status": "completed"
    },
    "tags": []
   },
   "outputs": [],
   "source": [
    "import tensorflow as tf\n",
    "import keras\n",
    "from keras.layers import Dense,Dropout"
   ]
  },
  {
   "cell_type": "code",
   "execution_count": 44,
   "id": "8e2490c8",
   "metadata": {
    "execution": {
     "iopub.execute_input": "2023-09-04T09:50:21.246371Z",
     "iopub.status.busy": "2023-09-04T09:50:21.244927Z",
     "iopub.status.idle": "2023-09-04T09:50:21.252156Z",
     "shell.execute_reply": "2023-09-04T09:50:21.250796Z"
    },
    "papermill": {
     "duration": 0.031839,
     "end_time": "2023-09-04T09:50:21.254281",
     "exception": false,
     "start_time": "2023-09-04T09:50:21.222442",
     "status": "completed"
    },
    "tags": []
   },
   "outputs": [
    {
     "data": {
      "text/plain": [
       "(1460, 74)"
      ]
     },
     "execution_count": 44,
     "metadata": {},
     "output_type": "execute_result"
    }
   ],
   "source": [
    "X_train.shape"
   ]
  },
  {
   "cell_type": "code",
   "execution_count": 45,
   "id": "de1efd02",
   "metadata": {
    "execution": {
     "iopub.execute_input": "2023-09-04T09:50:21.304433Z",
     "iopub.status.busy": "2023-09-04T09:50:21.303533Z",
     "iopub.status.idle": "2023-09-04T09:50:21.850504Z",
     "shell.execute_reply": "2023-09-04T09:50:21.849392Z"
    },
    "papermill": {
     "duration": 0.573876,
     "end_time": "2023-09-04T09:50:21.853602",
     "exception": false,
     "start_time": "2023-09-04T09:50:21.279726",
     "status": "completed"
    },
    "tags": []
   },
   "outputs": [
    {
     "name": "stdout",
     "output_type": "stream",
     "text": [
      "Model: \"sequential\"\n",
      "_________________________________________________________________\n",
      " Layer (type)                Output Shape              Param #   \n",
      "=================================================================\n",
      " dense (Dense)               (None, 128)               9600      \n",
      "                                                                 \n",
      " dropout (Dropout)           (None, 128)               0         \n",
      "                                                                 \n",
      " dense_1 (Dense)             (None, 64)                8256      \n",
      "                                                                 \n",
      " dropout_1 (Dropout)         (None, 64)                0         \n",
      "                                                                 \n",
      " dense_2 (Dense)             (None, 1)                 65        \n",
      "                                                                 \n",
      "=================================================================\n",
      "Total params: 17,921\n",
      "Trainable params: 17,921\n",
      "Non-trainable params: 0\n",
      "_________________________________________________________________\n"
     ]
    },
    {
     "data": {
      "image/png": "[encoded data removed]",
      "text/plain": [
       "<IPython.core.display.Image object>"
      ]
     },
     "execution_count": 45,
     "metadata": {},
     "output_type": "execute_result"
    }
   ],
   "source": [
    "model=keras.Sequential([\n",
    "    Dense(128,activation='relu',input_shape=(74,)),\n",
    "    Dropout(.5),\n",
    "    Dense(64,activation='relu'),\n",
    "    Dropout(.5),\n",
    "    Dense(1)\n",
    "])\n",
    "model.summary()\n",
    "\n",
    "optmizer=tf.keras.optimizers.RMSprop(0.001)\n",
    "model.compile(optimizer=optmizer,loss='mean_squared_error',metrics=['mean_squared_error'])\n",
    "tf.keras.utils.plot_model(\n",
    "    model,\n",
    "    to_file='model.png',\n",
    "    show_shapes=False,\n",
    "    show_dtype=False,\n",
    "    show_layer_names=True,\n",
    "    rankdir='TB',\n",
    "    expand_nested=False,\n",
    "    dpi=96,\n",
    "    layer_range=None,\n",
    "    show_layer_activations=False,\n",
    "    show_trainable=False\n",
    ")"
   ]
  },
  {
   "cell_type": "code",
   "execution_count": 46,
   "id": "f5206440",
   "metadata": {
    "execution": {
     "iopub.execute_input": "2023-09-04T09:50:21.908318Z",
     "iopub.status.busy": "2023-09-04T09:50:21.906988Z",
     "iopub.status.idle": "2023-09-04T09:50:31.752517Z",
     "shell.execute_reply": "2023-09-04T09:50:31.751307Z"
    },
    "papermill": {
     "duration": 9.873467,
     "end_time": "2023-09-04T09:50:31.755214",
     "exception": false,
     "start_time": "2023-09-04T09:50:21.881747",
     "status": "completed"
    },
    "tags": []
   },
   "outputs": [
    {
     "name": "stdout",
     "output_type": "stream",
     "text": [
      "Epoch 1/100\n",
      "19/19 - 1s - loss: 35430780928.0000 - mean_squared_error: 35430780928.0000 - val_loss: 32072161280.0000 - val_mean_squared_error: 32072161280.0000 - 1s/epoch - 74ms/step\n",
      "Epoch 2/100\n",
      "19/19 - 0s - loss: 26611482624.0000 - mean_squared_error: 26611482624.0000 - val_loss: 20463196160.0000 - val_mean_squared_error: 20463196160.0000 - 79ms/epoch - 4ms/step\n",
      "Epoch 3/100\n",
      "19/19 - 0s - loss: 16967546880.0000 - mean_squared_error: 16967546880.0000 - val_loss: 11527231488.0000 - val_mean_squared_error: 11527231488.0000 - 77ms/epoch - 4ms/step\n",
      "Epoch 4/100\n",
      "19/19 - 0s - loss: 11156826112.0000 - mean_squared_error: 11156826112.0000 - val_loss: 7015770624.0000 - val_mean_squared_error: 7015770624.0000 - 73ms/epoch - 4ms/step\n",
      "Epoch 5/100\n",
      "19/19 - 0s - loss: 9479485440.0000 - mean_squared_error: 9479485440.0000 - val_loss: 5829651968.0000 - val_mean_squared_error: 5829651968.0000 - 72ms/epoch - 4ms/step\n",
      "Epoch 6/100\n",
      "19/19 - 0s - loss: 8286035968.0000 - mean_squared_error: 8286035968.0000 - val_loss: 5463563264.0000 - val_mean_squared_error: 5463563264.0000 - 73ms/epoch - 4ms/step\n",
      "Epoch 7/100\n",
      "19/19 - 0s - loss: 7667608576.0000 - mean_squared_error: 7667608576.0000 - val_loss: 5297466880.0000 - val_mean_squared_error: 5297466880.0000 - 73ms/epoch - 4ms/step\n",
      "Epoch 8/100\n",
      "19/19 - 0s - loss: 6928507904.0000 - mean_squared_error: 6928507904.0000 - val_loss: 5142863360.0000 - val_mean_squared_error: 5142863360.0000 - 74ms/epoch - 4ms/step\n",
      "Epoch 9/100\n",
      "19/19 - 0s - loss: 6882628608.0000 - mean_squared_error: 6882628608.0000 - val_loss: 4976146944.0000 - val_mean_squared_error: 4976146944.0000 - 81ms/epoch - 4ms/step\n",
      "Epoch 10/100\n",
      "19/19 - 0s - loss: 6329280000.0000 - mean_squared_error: 6329280000.0000 - val_loss: 4848742400.0000 - val_mean_squared_error: 4848742400.0000 - 80ms/epoch - 4ms/step\n",
      "Epoch 11/100\n",
      "19/19 - 0s - loss: 5825353728.0000 - mean_squared_error: 5825353728.0000 - val_loss: 4727939584.0000 - val_mean_squared_error: 4727939584.0000 - 80ms/epoch - 4ms/step\n",
      "Epoch 12/100\n",
      "19/19 - 0s - loss: 7458509824.0000 - mean_squared_error: 7458509824.0000 - val_loss: 4703906304.0000 - val_mean_squared_error: 4703906304.0000 - 73ms/epoch - 4ms/step\n",
      "Epoch 13/100\n",
      "19/19 - 0s - loss: 6136773632.0000 - mean_squared_error: 6136773632.0000 - val_loss: 4484817920.0000 - val_mean_squared_error: 4484817920.0000 - 77ms/epoch - 4ms/step\n",
      "Epoch 14/100\n",
      "19/19 - 0s - loss: 6034708480.0000 - mean_squared_error: 6034708480.0000 - val_loss: 4387507712.0000 - val_mean_squared_error: 4387507712.0000 - 76ms/epoch - 4ms/step\n",
      "Epoch 15/100\n",
      "19/19 - 0s - loss: 5019342848.0000 - mean_squared_error: 5019342848.0000 - val_loss: 4294483968.0000 - val_mean_squared_error: 4294483968.0000 - 92ms/epoch - 5ms/step\n",
      "Epoch 16/100\n",
      "19/19 - 0s - loss: 4861156352.0000 - mean_squared_error: 4861156352.0000 - val_loss: 4238019328.0000 - val_mean_squared_error: 4238019328.0000 - 83ms/epoch - 4ms/step\n",
      "Epoch 17/100\n",
      "19/19 - 0s - loss: 4881148416.0000 - mean_squared_error: 4881148416.0000 - val_loss: 4230513920.0000 - val_mean_squared_error: 4230513920.0000 - 82ms/epoch - 4ms/step\n",
      "Epoch 18/100\n",
      "19/19 - 0s - loss: 5131573760.0000 - mean_squared_error: 5131573760.0000 - val_loss: 4064820992.0000 - val_mean_squared_error: 4064820992.0000 - 77ms/epoch - 4ms/step\n",
      "Epoch 19/100\n",
      "19/19 - 0s - loss: 4936199168.0000 - mean_squared_error: 4936199168.0000 - val_loss: 4002302720.0000 - val_mean_squared_error: 4002302720.0000 - 80ms/epoch - 4ms/step\n",
      "Epoch 20/100\n",
      "19/19 - 0s - loss: 4714979840.0000 - mean_squared_error: 4714979840.0000 - val_loss: 3923457280.0000 - val_mean_squared_error: 3923457280.0000 - 82ms/epoch - 4ms/step\n",
      "Epoch 21/100\n",
      "19/19 - 0s - loss: 4424693248.0000 - mean_squared_error: 4424693248.0000 - val_loss: 3838448384.0000 - val_mean_squared_error: 3838448384.0000 - 78ms/epoch - 4ms/step\n",
      "Epoch 22/100\n",
      "19/19 - 0s - loss: 4357712896.0000 - mean_squared_error: 4357712896.0000 - val_loss: 3857260800.0000 - val_mean_squared_error: 3857260800.0000 - 71ms/epoch - 4ms/step\n",
      "Epoch 23/100\n",
      "19/19 - 0s - loss: 4880865792.0000 - mean_squared_error: 4880865792.0000 - val_loss: 3713103104.0000 - val_mean_squared_error: 3713103104.0000 - 77ms/epoch - 4ms/step\n",
      "Epoch 24/100\n",
      "19/19 - 0s - loss: 4243115776.0000 - mean_squared_error: 4243115776.0000 - val_loss: 3655079168.0000 - val_mean_squared_error: 3655079168.0000 - 75ms/epoch - 4ms/step\n",
      "Epoch 25/100\n",
      "19/19 - 0s - loss: 3802159104.0000 - mean_squared_error: 3802159104.0000 - val_loss: 3595617280.0000 - val_mean_squared_error: 3595617280.0000 - 73ms/epoch - 4ms/step\n",
      "Epoch 26/100\n",
      "19/19 - 0s - loss: 4185804032.0000 - mean_squared_error: 4185804032.0000 - val_loss: 3553754624.0000 - val_mean_squared_error: 3553754624.0000 - 75ms/epoch - 4ms/step\n",
      "Epoch 27/100\n",
      "19/19 - 0s - loss: 4006822144.0000 - mean_squared_error: 4006822144.0000 - val_loss: 3529600000.0000 - val_mean_squared_error: 3529600000.0000 - 80ms/epoch - 4ms/step\n",
      "Epoch 28/100\n",
      "19/19 - 0s - loss: 3937852672.0000 - mean_squared_error: 3937852672.0000 - val_loss: 3469698816.0000 - val_mean_squared_error: 3469698816.0000 - 76ms/epoch - 4ms/step\n",
      "Epoch 29/100\n",
      "19/19 - 0s - loss: 3632949760.0000 - mean_squared_error: 3632949760.0000 - val_loss: 3443745792.0000 - val_mean_squared_error: 3443745792.0000 - 75ms/epoch - 4ms/step\n",
      "Epoch 30/100\n",
      "19/19 - 0s - loss: 3518756864.0000 - mean_squared_error: 3518756864.0000 - val_loss: 3444094720.0000 - val_mean_squared_error: 3444094720.0000 - 77ms/epoch - 4ms/step\n",
      "Epoch 31/100\n",
      "19/19 - 0s - loss: 3385922560.0000 - mean_squared_error: 3385922560.0000 - val_loss: 3370212096.0000 - val_mean_squared_error: 3370212096.0000 - 78ms/epoch - 4ms/step\n",
      "Epoch 32/100\n",
      "19/19 - 0s - loss: 3644897536.0000 - mean_squared_error: 3644897536.0000 - val_loss: 3420191744.0000 - val_mean_squared_error: 3420191744.0000 - 77ms/epoch - 4ms/step\n",
      "Epoch 33/100\n",
      "19/19 - 0s - loss: 3776918272.0000 - mean_squared_error: 3776918272.0000 - val_loss: 3380387072.0000 - val_mean_squared_error: 3380387072.0000 - 76ms/epoch - 4ms/step\n",
      "Epoch 34/100\n",
      "19/19 - 0s - loss: 3645964032.0000 - mean_squared_error: 3645964032.0000 - val_loss: 3323764480.0000 - val_mean_squared_error: 3323764480.0000 - 78ms/epoch - 4ms/step\n",
      "Epoch 35/100\n",
      "19/19 - 0s - loss: 3340201472.0000 - mean_squared_error: 3340201472.0000 - val_loss: 3287949312.0000 - val_mean_squared_error: 3287949312.0000 - 81ms/epoch - 4ms/step\n",
      "Epoch 36/100\n",
      "19/19 - 0s - loss: 3726687744.0000 - mean_squared_error: 3726687744.0000 - val_loss: 3316257792.0000 - val_mean_squared_error: 3316257792.0000 - 86ms/epoch - 5ms/step\n",
      "Epoch 37/100\n",
      "19/19 - 0s - loss: 3192971264.0000 - mean_squared_error: 3192971264.0000 - val_loss: 3256657664.0000 - val_mean_squared_error: 3256657664.0000 - 82ms/epoch - 4ms/step\n",
      "Epoch 38/100\n",
      "19/19 - 0s - loss: 3181308416.0000 - mean_squared_error: 3181308416.0000 - val_loss: 3293828864.0000 - val_mean_squared_error: 3293828864.0000 - 78ms/epoch - 4ms/step\n",
      "Epoch 39/100\n",
      "19/19 - 0s - loss: 3052992256.0000 - mean_squared_error: 3052992256.0000 - val_loss: 3276952832.0000 - val_mean_squared_error: 3276952832.0000 - 79ms/epoch - 4ms/step\n",
      "Epoch 40/100\n",
      "19/19 - 0s - loss: 3218075392.0000 - mean_squared_error: 3218075392.0000 - val_loss: 3256819200.0000 - val_mean_squared_error: 3256819200.0000 - 77ms/epoch - 4ms/step\n",
      "Epoch 41/100\n",
      "19/19 - 0s - loss: 3262670336.0000 - mean_squared_error: 3262670336.0000 - val_loss: 3260938752.0000 - val_mean_squared_error: 3260938752.0000 - 79ms/epoch - 4ms/step\n",
      "Epoch 42/100\n",
      "19/19 - 0s - loss: 3110705152.0000 - mean_squared_error: 3110705152.0000 - val_loss: 3245594112.0000 - val_mean_squared_error: 3245594112.0000 - 77ms/epoch - 4ms/step\n",
      "Epoch 43/100\n",
      "19/19 - 0s - loss: 3194829824.0000 - mean_squared_error: 3194829824.0000 - val_loss: 3303973632.0000 - val_mean_squared_error: 3303973632.0000 - 81ms/epoch - 4ms/step\n",
      "Epoch 44/100\n",
      "19/19 - 0s - loss: 3010613248.0000 - mean_squared_error: 3010613248.0000 - val_loss: 3294461952.0000 - val_mean_squared_error: 3294461952.0000 - 90ms/epoch - 5ms/step\n",
      "Epoch 45/100\n",
      "19/19 - 0s - loss: 3513485824.0000 - mean_squared_error: 3513485824.0000 - val_loss: 3287918592.0000 - val_mean_squared_error: 3287918592.0000 - 98ms/epoch - 5ms/step\n",
      "Epoch 46/100\n",
      "19/19 - 0s - loss: 3073114112.0000 - mean_squared_error: 3073114112.0000 - val_loss: 3315778560.0000 - val_mean_squared_error: 3315778560.0000 - 86ms/epoch - 5ms/step\n",
      "Epoch 47/100\n",
      "19/19 - 0s - loss: 2996321280.0000 - mean_squared_error: 2996321280.0000 - val_loss: 3318493184.0000 - val_mean_squared_error: 3318493184.0000 - 73ms/epoch - 4ms/step\n",
      "Epoch 48/100\n",
      "19/19 - 0s - loss: 2906681088.0000 - mean_squared_error: 2906681088.0000 - val_loss: 3374938112.0000 - val_mean_squared_error: 3374938112.0000 - 82ms/epoch - 4ms/step\n",
      "Epoch 49/100\n",
      "19/19 - 0s - loss: 2888097024.0000 - mean_squared_error: 2888097024.0000 - val_loss: 3403900672.0000 - val_mean_squared_error: 3403900928.0000 - 80ms/epoch - 4ms/step\n",
      "Epoch 50/100\n",
      "19/19 - 0s - loss: 2911077376.0000 - mean_squared_error: 2911077376.0000 - val_loss: 3432270080.0000 - val_mean_squared_error: 3432270080.0000 - 80ms/epoch - 4ms/step\n",
      "Epoch 51/100\n",
      "19/19 - 0s - loss: 3157217280.0000 - mean_squared_error: 3157217280.0000 - val_loss: 3398129920.0000 - val_mean_squared_error: 3398129920.0000 - 75ms/epoch - 4ms/step\n",
      "Epoch 52/100\n",
      "19/19 - 0s - loss: 2775532544.0000 - mean_squared_error: 2775532544.0000 - val_loss: 3423359744.0000 - val_mean_squared_error: 3423359744.0000 - 91ms/epoch - 5ms/step\n",
      "Epoch 53/100\n",
      "19/19 - 0s - loss: 3095027712.0000 - mean_squared_error: 3095027712.0000 - val_loss: 3424630016.0000 - val_mean_squared_error: 3424630016.0000 - 87ms/epoch - 5ms/step\n",
      "Epoch 54/100\n",
      "19/19 - 0s - loss: 2947767040.0000 - mean_squared_error: 2947767040.0000 - val_loss: 3483034880.0000 - val_mean_squared_error: 3483034880.0000 - 90ms/epoch - 5ms/step\n",
      "Epoch 55/100\n",
      "19/19 - 0s - loss: 2707353088.0000 - mean_squared_error: 2707353088.0000 - val_loss: 3412690944.0000 - val_mean_squared_error: 3412690944.0000 - 83ms/epoch - 4ms/step\n",
      "Epoch 56/100\n",
      "19/19 - 0s - loss: 2757588480.0000 - mean_squared_error: 2757588480.0000 - val_loss: 3417047552.0000 - val_mean_squared_error: 3417047552.0000 - 82ms/epoch - 4ms/step\n",
      "Epoch 57/100\n",
      "19/19 - 0s - loss: 2664450560.0000 - mean_squared_error: 2664450560.0000 - val_loss: 3444608000.0000 - val_mean_squared_error: 3444608000.0000 - 87ms/epoch - 5ms/step\n",
      "Epoch 58/100\n",
      "19/19 - 0s - loss: 2730949120.0000 - mean_squared_error: 2730949120.0000 - val_loss: 3473613312.0000 - val_mean_squared_error: 3473613312.0000 - 89ms/epoch - 5ms/step\n",
      "Epoch 59/100\n",
      "19/19 - 0s - loss: 2749390848.0000 - mean_squared_error: 2749390848.0000 - val_loss: 3464000768.0000 - val_mean_squared_error: 3464000768.0000 - 83ms/epoch - 4ms/step\n",
      "Epoch 60/100\n",
      "19/19 - 0s - loss: 3080564480.0000 - mean_squared_error: 3080564480.0000 - val_loss: 3451822080.0000 - val_mean_squared_error: 3451822080.0000 - 84ms/epoch - 4ms/step\n",
      "Epoch 61/100\n",
      "19/19 - 0s - loss: 3032646656.0000 - mean_squared_error: 3032646656.0000 - val_loss: 3489798656.0000 - val_mean_squared_error: 3489798656.0000 - 81ms/epoch - 4ms/step\n",
      "Epoch 62/100\n",
      "19/19 - 0s - loss: 2898130176.0000 - mean_squared_error: 2898130176.0000 - val_loss: 3517177856.0000 - val_mean_squared_error: 3517177856.0000 - 82ms/epoch - 4ms/step\n",
      "Epoch 63/100\n",
      "19/19 - 0s - loss: 2868597760.0000 - mean_squared_error: 2868597760.0000 - val_loss: 3441476608.0000 - val_mean_squared_error: 3441476608.0000 - 92ms/epoch - 5ms/step\n",
      "Epoch 64/100\n",
      "19/19 - 0s - loss: 3317362176.0000 - mean_squared_error: 3317362176.0000 - val_loss: 3442412544.0000 - val_mean_squared_error: 3442412544.0000 - 90ms/epoch - 5ms/step\n",
      "Epoch 65/100\n",
      "19/19 - 0s - loss: 2721123584.0000 - mean_squared_error: 2721123584.0000 - val_loss: 3450429952.0000 - val_mean_squared_error: 3450429952.0000 - 84ms/epoch - 4ms/step\n",
      "Epoch 66/100\n",
      "19/19 - 0s - loss: 3093251840.0000 - mean_squared_error: 3093251840.0000 - val_loss: 3555464448.0000 - val_mean_squared_error: 3555464448.0000 - 88ms/epoch - 5ms/step\n",
      "Epoch 67/100\n",
      "19/19 - 0s - loss: 2968320768.0000 - mean_squared_error: 2968320768.0000 - val_loss: 3436720128.0000 - val_mean_squared_error: 3436720128.0000 - 78ms/epoch - 4ms/step\n",
      "Epoch 68/100\n",
      "19/19 - 0s - loss: 2671328768.0000 - mean_squared_error: 2671328768.0000 - val_loss: 3446206720.0000 - val_mean_squared_error: 3446206720.0000 - 74ms/epoch - 4ms/step\n",
      "Epoch 69/100\n",
      "19/19 - 0s - loss: 2896493568.0000 - mean_squared_error: 2896493568.0000 - val_loss: 3439902208.0000 - val_mean_squared_error: 3439902208.0000 - 77ms/epoch - 4ms/step\n",
      "Epoch 70/100\n",
      "19/19 - 0s - loss: 3032384000.0000 - mean_squared_error: 3032384000.0000 - val_loss: 3483162112.0000 - val_mean_squared_error: 3483162112.0000 - 78ms/epoch - 4ms/step\n",
      "Epoch 71/100\n",
      "19/19 - 0s - loss: 2718966272.0000 - mean_squared_error: 2718966272.0000 - val_loss: 3494096384.0000 - val_mean_squared_error: 3494096384.0000 - 77ms/epoch - 4ms/step\n",
      "Epoch 72/100\n",
      "19/19 - 0s - loss: 2935981056.0000 - mean_squared_error: 2935981056.0000 - val_loss: 3492349184.0000 - val_mean_squared_error: 3492349184.0000 - 73ms/epoch - 4ms/step\n",
      "Epoch 73/100\n",
      "19/19 - 0s - loss: 3231151872.0000 - mean_squared_error: 3231151872.0000 - val_loss: 3495866112.0000 - val_mean_squared_error: 3495866112.0000 - 77ms/epoch - 4ms/step\n",
      "Epoch 74/100\n",
      "19/19 - 0s - loss: 3089578240.0000 - mean_squared_error: 3089578240.0000 - val_loss: 3475451648.0000 - val_mean_squared_error: 3475451648.0000 - 73ms/epoch - 4ms/step\n",
      "Epoch 75/100\n",
      "19/19 - 0s - loss: 2950663168.0000 - mean_squared_error: 2950663168.0000 - val_loss: 3470891520.0000 - val_mean_squared_error: 3470891520.0000 - 73ms/epoch - 4ms/step\n",
      "Epoch 76/100\n",
      "19/19 - 0s - loss: 2902989312.0000 - mean_squared_error: 2902989312.0000 - val_loss: 3519398912.0000 - val_mean_squared_error: 3519398912.0000 - 74ms/epoch - 4ms/step\n",
      "Epoch 77/100\n",
      "19/19 - 0s - loss: 2658706944.0000 - mean_squared_error: 2658706944.0000 - val_loss: 3535813632.0000 - val_mean_squared_error: 3535813632.0000 - 74ms/epoch - 4ms/step\n",
      "Epoch 78/100\n",
      "19/19 - 0s - loss: 2698581248.0000 - mean_squared_error: 2698581248.0000 - val_loss: 3562979584.0000 - val_mean_squared_error: 3562979584.0000 - 71ms/epoch - 4ms/step\n",
      "Epoch 79/100\n",
      "19/19 - 0s - loss: 3015618048.0000 - mean_squared_error: 3015618048.0000 - val_loss: 3475106560.0000 - val_mean_squared_error: 3475106560.0000 - 77ms/epoch - 4ms/step\n",
      "Epoch 80/100\n",
      "19/19 - 0s - loss: 2890498816.0000 - mean_squared_error: 2890498816.0000 - val_loss: 3535651840.0000 - val_mean_squared_error: 3535651840.0000 - 80ms/epoch - 4ms/step\n",
      "Epoch 81/100\n",
      "19/19 - 0s - loss: 2904037632.0000 - mean_squared_error: 2904037632.0000 - val_loss: 3485047552.0000 - val_mean_squared_error: 3485047552.0000 - 83ms/epoch - 4ms/step\n",
      "Epoch 82/100\n",
      "19/19 - 0s - loss: 2916108800.0000 - mean_squared_error: 2916108800.0000 - val_loss: 3493756928.0000 - val_mean_squared_error: 3493756928.0000 - 75ms/epoch - 4ms/step\n",
      "Epoch 83/100\n",
      "19/19 - 0s - loss: 2828708352.0000 - mean_squared_error: 2828708352.0000 - val_loss: 3502609920.0000 - val_mean_squared_error: 3502609920.0000 - 90ms/epoch - 5ms/step\n",
      "Epoch 84/100\n",
      "19/19 - 0s - loss: 2830186496.0000 - mean_squared_error: 2830186496.0000 - val_loss: 3484450304.0000 - val_mean_squared_error: 3484450304.0000 - 79ms/epoch - 4ms/step\n",
      "Epoch 85/100\n",
      "19/19 - 0s - loss: 3201486592.0000 - mean_squared_error: 3201486592.0000 - val_loss: 3483195904.0000 - val_mean_squared_error: 3483195904.0000 - 88ms/epoch - 5ms/step\n",
      "Epoch 86/100\n",
      "19/19 - 0s - loss: 2823799296.0000 - mean_squared_error: 2823799296.0000 - val_loss: 3463683840.0000 - val_mean_squared_error: 3463683840.0000 - 76ms/epoch - 4ms/step\n",
      "Epoch 87/100\n",
      "19/19 - 0s - loss: 2844001536.0000 - mean_squared_error: 2844001536.0000 - val_loss: 3483818752.0000 - val_mean_squared_error: 3483818752.0000 - 75ms/epoch - 4ms/step\n",
      "Epoch 88/100\n",
      "19/19 - 0s - loss: 2597835008.0000 - mean_squared_error: 2597835008.0000 - val_loss: 3476647424.0000 - val_mean_squared_error: 3476647424.0000 - 86ms/epoch - 5ms/step\n",
      "Epoch 89/100\n",
      "19/19 - 0s - loss: 2967985664.0000 - mean_squared_error: 2967985664.0000 - val_loss: 3495488768.0000 - val_mean_squared_error: 3495488768.0000 - 79ms/epoch - 4ms/step\n",
      "Epoch 90/100\n",
      "19/19 - 0s - loss: 3084608512.0000 - mean_squared_error: 3084608512.0000 - val_loss: 3445342464.0000 - val_mean_squared_error: 3445342464.0000 - 85ms/epoch - 4ms/step\n",
      "Epoch 91/100\n",
      "19/19 - 0s - loss: 3055272960.0000 - mean_squared_error: 3055272960.0000 - val_loss: 3487416576.0000 - val_mean_squared_error: 3487416576.0000 - 84ms/epoch - 4ms/step\n",
      "Epoch 92/100\n",
      "19/19 - 0s - loss: 2810004992.0000 - mean_squared_error: 2810004992.0000 - val_loss: 3475995392.0000 - val_mean_squared_error: 3475995392.0000 - 91ms/epoch - 5ms/step\n",
      "Epoch 93/100\n",
      "19/19 - 0s - loss: 2899059200.0000 - mean_squared_error: 2899059200.0000 - val_loss: 3548190976.0000 - val_mean_squared_error: 3548190976.0000 - 79ms/epoch - 4ms/step\n",
      "Epoch 94/100\n",
      "19/19 - 0s - loss: 3072998400.0000 - mean_squared_error: 3072998400.0000 - val_loss: 3490690304.0000 - val_mean_squared_error: 3490690304.0000 - 76ms/epoch - 4ms/step\n",
      "Epoch 95/100\n",
      "19/19 - 0s - loss: 3109083648.0000 - mean_squared_error: 3109083648.0000 - val_loss: 3649130752.0000 - val_mean_squared_error: 3649130752.0000 - 78ms/epoch - 4ms/step\n",
      "Epoch 96/100\n",
      "19/19 - 0s - loss: 2638750208.0000 - mean_squared_error: 2638750208.0000 - val_loss: 3497335296.0000 - val_mean_squared_error: 3497335296.0000 - 76ms/epoch - 4ms/step\n",
      "Epoch 97/100\n",
      "19/19 - 0s - loss: 2619947008.0000 - mean_squared_error: 2619947008.0000 - val_loss: 3484377600.0000 - val_mean_squared_error: 3484377600.0000 - 78ms/epoch - 4ms/step\n",
      "Epoch 98/100\n",
      "19/19 - 0s - loss: 2937502976.0000 - mean_squared_error: 2937502976.0000 - val_loss: 3471537152.0000 - val_mean_squared_error: 3471537152.0000 - 73ms/epoch - 4ms/step\n",
      "Epoch 99/100\n",
      "19/19 - 0s - loss: 2828077056.0000 - mean_squared_error: 2828077056.0000 - val_loss: 3502628352.0000 - val_mean_squared_error: 3502628352.0000 - 76ms/epoch - 4ms/step\n",
      "Epoch 100/100\n",
      "19/19 - 0s - loss: 2816709376.0000 - mean_squared_error: 2816709376.0000 - val_loss: 3539042816.0000 - val_mean_squared_error: 3539042816.0000 - 69ms/epoch - 4ms/step\n"
     ]
    }
   ],
   "source": [
    "history=model.fit(X_train,Y_train,epochs=100,validation_split=.2,batch_size=64,verbose=2)"
   ]
  },
  {
   "cell_type": "code",
   "execution_count": 47,
   "id": "47799037",
   "metadata": {
    "execution": {
     "iopub.execute_input": "2023-09-04T09:50:31.829066Z",
     "iopub.status.busy": "2023-09-04T09:50:31.828624Z",
     "iopub.status.idle": "2023-09-04T09:50:32.176687Z",
     "shell.execute_reply": "2023-09-04T09:50:32.175500Z"
    },
    "papermill": {
     "duration": 0.388032,
     "end_time": "2023-09-04T09:50:32.179256",
     "exception": false,
     "start_time": "2023-09-04T09:50:31.791224",
     "status": "completed"
    },
    "tags": []
   },
   "outputs": [
    {
     "data": {
      "text/plain": [
       "<matplotlib.legend.Legend at 0x7d9e586bb8e0>"
      ]
     },
     "execution_count": 47,
     "metadata": {},
     "output_type": "execute_result"
    },
    {
     "data": {
      "image/png": "[encoded data removed]",
      "text/plain": [
       "<Figure size 640x480 with 1 Axes>"
      ]
     },
     "metadata": {},
     "output_type": "display_data"
    }
   ],
   "source": [
    "plt.plot(history.history['mean_squared_error'])\n",
    "plt.plot(history.history['val_mean_squared_error'])\n",
    "\n",
    "plt.title('model accuracy')\n",
    "plt.ylabel('accuracy')\n",
    "plt.xlabel('epoch')\n",
    "\n",
    "plt.legend(['training data', 'validation data'], loc = 'upper right')"
   ]
  },
  {
   "cell_type": "code",
   "execution_count": 48,
   "id": "2a699aa9",
   "metadata": {
    "execution": {
     "iopub.execute_input": "2023-09-04T09:50:32.256291Z",
     "iopub.status.busy": "2023-09-04T09:50:32.255216Z",
     "iopub.status.idle": "2023-09-04T09:50:32.588077Z",
     "shell.execute_reply": "2023-09-04T09:50:32.586783Z"
    },
    "papermill": {
     "duration": 0.374468,
     "end_time": "2023-09-04T09:50:32.590851",
     "exception": false,
     "start_time": "2023-09-04T09:50:32.216383",
     "status": "completed"
    },
    "tags": []
   },
   "outputs": [
    {
     "data": {
      "text/plain": [
       "<matplotlib.legend.Legend at 0x7d9e5996fe80>"
      ]
     },
     "execution_count": 48,
     "metadata": {},
     "output_type": "execute_result"
    },
    {
     "data": {
      "image/png": "[encoded data removed]",
      "text/plain": [
       "<Figure size 640x480 with 1 Axes>"
      ]
     },
     "metadata": {},
     "output_type": "display_data"
    }
   ],
   "source": [
    "plt.plot(history.history['loss'])\n",
    "plt.plot(history.history['val_loss'])\n",
    "\n",
    "plt.title('model loss')\n",
    "plt.ylabel('loss')\n",
    "plt.xlabel('epoch')\n",
    "\n",
    "plt.legend(['training data', 'validation data'], loc = 'upper right')"
   ]
  },
  {
   "cell_type": "code",
   "execution_count": 49,
   "id": "c653354b",
   "metadata": {
    "execution": {
     "iopub.execute_input": "2023-09-04T09:50:32.670179Z",
     "iopub.status.busy": "2023-09-04T09:50:32.669081Z",
     "iopub.status.idle": "2023-09-04T09:50:32.942031Z",
     "shell.execute_reply": "2023-09-04T09:50:32.940323Z"
    },
    "papermill": {
     "duration": 0.315973,
     "end_time": "2023-09-04T09:50:32.944893",
     "exception": false,
     "start_time": "2023-09-04T09:50:32.628920",
     "status": "completed"
    },
    "tags": []
   },
   "outputs": [
    {
     "name": "stdout",
     "output_type": "stream",
     "text": [
      "46/46 [==============================] - 0s 1ms/step\n"
     ]
    }
   ],
   "source": [
    "test_pred= model.predict(test_data)"
   ]
  },
  {
   "cell_type": "code",
   "execution_count": 50,
   "id": "b6de9912",
   "metadata": {
    "execution": {
     "iopub.execute_input": "2023-09-04T09:50:33.022456Z",
     "iopub.status.busy": "2023-09-04T09:50:33.021992Z",
     "iopub.status.idle": "2023-09-04T09:50:33.029640Z",
     "shell.execute_reply": "2023-09-04T09:50:33.028448Z"
    },
    "papermill": {
     "duration": 0.04972,
     "end_time": "2023-09-04T09:50:33.032233",
     "exception": false,
     "start_time": "2023-09-04T09:50:32.982513",
     "status": "completed"
    },
    "tags": []
   },
   "outputs": [
    {
     "data": {
      "text/plain": [
       "array([[143374.44],\n",
       "       [166566.7 ],\n",
       "       [189142.86],\n",
       "       ...,\n",
       "       [194667.89],\n",
       "       [ 98687.56],\n",
       "       [228745.8 ]], dtype=float32)"
      ]
     },
     "execution_count": 50,
     "metadata": {},
     "output_type": "execute_result"
    }
   ],
   "source": [
    "test_pred"
   ]
  },
  {
   "cell_type": "code",
   "execution_count": null,
   "id": "6870cf27",
   "metadata": {
    "papermill": {
     "duration": 0.039163,
     "end_time": "2023-09-04T09:50:33.113498",
     "exception": false,
     "start_time": "2023-09-04T09:50:33.074335",
     "status": "completed"
    },
    "tags": []
   },
   "outputs": [],
   "source": []
  },
  {
   "cell_type": "code",
   "execution_count": 51,
   "id": "eb074cff",
   "metadata": {
    "execution": {
     "iopub.execute_input": "2023-09-04T09:50:33.193031Z",
     "iopub.status.busy": "2023-09-04T09:50:33.192602Z",
     "iopub.status.idle": "2023-09-04T09:50:33.198567Z",
     "shell.execute_reply": "2023-09-04T09:50:33.197163Z"
    },
    "papermill": {
     "duration": 0.04811,
     "end_time": "2023-09-04T09:50:33.201197",
     "exception": false,
     "start_time": "2023-09-04T09:50:33.153087",
     "status": "completed"
    },
    "tags": []
   },
   "outputs": [],
   "source": [
    "from sklearn.linear_model import LinearRegression\n",
    "reg = LinearRegression()"
   ]
  },
  {
   "cell_type": "code",
   "execution_count": 52,
   "id": "5819166b",
   "metadata": {
    "execution": {
     "iopub.execute_input": "2023-09-04T09:50:33.278903Z",
     "iopub.status.busy": "2023-09-04T09:50:33.277917Z",
     "iopub.status.idle": "2023-09-04T09:50:33.326120Z",
     "shell.execute_reply": "2023-09-04T09:50:33.324949Z"
    },
    "papermill": {
     "duration": 0.090225,
     "end_time": "2023-09-04T09:50:33.329305",
     "exception": false,
     "start_time": "2023-09-04T09:50:33.239080",
     "status": "completed"
    },
    "tags": []
   },
   "outputs": [
    {
     "data": {
      "text/html": [
       "<style>#sk-container-id-3 {color: black;background-color: white;}#sk-container-id-3 pre{padding: 0;}#sk-container-id-3 div.sk-toggleable {background-color: white;}#sk-container-id-3 label.sk-toggleable__label {cursor: pointer;display: block;width: 100%;margin-bottom: 0;padding: 0.3em;box-sizing: border-box;text-align: center;}#sk-container-id-3 label.sk-toggleable__label-arrow:before {content: \"▸\";float: left;margin-right: 0.25em;color: #696969;}#sk-container-id-3 label.sk-toggleable__label-arrow:hover:before {color: black;}#sk-container-id-3 div.sk-estimator:hover label.sk-toggleable__label-arrow:before {color: black;}#sk-container-id-3 div.sk-toggleable__content {max-height: 0;max-width: 0;overflow: hidden;text-align: left;background-color: #f0f8ff;}#sk-container-id-3 div.sk-toggleable__content pre {margin: 0.2em;color: black;border-radius: 0.25em;background-color: #f0f8ff;}#sk-container-id-3 input.sk-toggleable__control:checked~div.sk-toggleable__content {max-height: 200px;max-width: 100%;overflow: auto;}#sk-container-id-3 input.sk-toggleable__control:checked~label.sk-toggleable__label-arrow:before {content: \"▾\";}#sk-container-id-3 div.sk-estimator input.sk-toggleable__control:checked~label.sk-toggleable__label {background-color: #d4ebff;}#sk-container-id-3 div.sk-label input.sk-toggleable__control:checked~label.sk-toggleable__label {background-color: #d4ebff;}#sk-container-id-3 input.sk-hidden--visually {border: 0;clip: rect(1px 1px 1px 1px);clip: rect(1px, 1px, 1px, 1px);height: 1px;margin: -1px;overflow: hidden;padding: 0;position: absolute;width: 1px;}#sk-container-id-3 div.sk-estimator {font-family: monospace;background-color: #f0f8ff;border: 1px dotted black;border-radius: 0.25em;box-sizing: border-box;margin-bottom: 0.5em;}#sk-container-id-3 div.sk-estimator:hover {background-color: #d4ebff;}#sk-container-id-3 div.sk-parallel-item::after {content: \"\";width: 100%;border-bottom: 1px solid gray;flex-grow: 1;}#sk-container-id-3 div.sk-label:hover label.sk-toggleable__label {background-color: #d4ebff;}#sk-container-id-3 div.sk-serial::before {content: \"\";position: absolute;border-left: 1px solid gray;box-sizing: border-box;top: 0;bottom: 0;left: 50%;z-index: 0;}#sk-container-id-3 div.sk-serial {display: flex;flex-direction: column;align-items: center;background-color: white;padding-right: 0.2em;padding-left: 0.2em;position: relative;}#sk-container-id-3 div.sk-item {position: relative;z-index: 1;}#sk-container-id-3 div.sk-parallel {display: flex;align-items: stretch;justify-content: center;background-color: white;position: relative;}#sk-container-id-3 div.sk-item::before, #sk-container-id-3 div.sk-parallel-item::before {content: \"\";position: absolute;border-left: 1px solid gray;box-sizing: border-box;top: 0;bottom: 0;left: 50%;z-index: -1;}#sk-container-id-3 div.sk-parallel-item {display: flex;flex-direction: column;z-index: 1;position: relative;background-color: white;}#sk-container-id-3 div.sk-parallel-item:first-child::after {align-self: flex-end;width: 50%;}#sk-container-id-3 div.sk-parallel-item:last-child::after {align-self: flex-start;width: 50%;}#sk-container-id-3 div.sk-parallel-item:only-child::after {width: 0;}#sk-container-id-3 div.sk-dashed-wrapped {border: 1px dashed gray;margin: 0 0.4em 0.5em 0.4em;box-sizing: border-box;padding-bottom: 0.4em;background-color: white;}#sk-container-id-3 div.sk-label label {font-family: monospace;font-weight: bold;display: inline-block;line-height: 1.2em;}#sk-container-id-3 div.sk-label-container {text-align: center;}#sk-container-id-3 div.sk-container {/* jupyter's `normalize.less` sets `[hidden] { display: none; }` but bootstrap.min.css set `[hidden] { display: none !important; }` so we also need the `!important` here to be able to override the default hidden behavior on the sphinx rendered scikit-learn.org. See: https://github.com/scikit-learn/scikit-learn/issues/21755 */display: inline-block !important;position: relative;}#sk-container-id-3 div.sk-text-repr-fallback {display: none;}</style><div id=\"sk-container-id-3\" class=\"sk-top-container\"><div class=\"sk-text-repr-fallback\"><pre>LinearRegression()</pre><b>In a Jupyter environment, please rerun this cell to show the HTML representation or trust the notebook. <br />On GitHub, the HTML representation is unable to render, please try loading this page with nbviewer.org.</b></div><div class=\"sk-container\" hidden><div class=\"sk-item\"><div class=\"sk-estimator sk-toggleable\"><input class=\"sk-toggleable__control sk-hidden--visually\" id=\"sk-estimator-id-3\" type=\"checkbox\" checked><label for=\"sk-estimator-id-3\" class=\"sk-toggleable__label sk-toggleable__label-arrow\">LinearRegression</label><div class=\"sk-toggleable__content\"><pre>LinearRegression()</pre></div></div></div></div></div>"
      ],
      "text/plain": [
       "LinearRegression()"
      ]
     },
     "execution_count": 52,
     "metadata": {},
     "output_type": "execute_result"
    }
   ],
   "source": [
    "reg.fit(X_train,Y_train)"
   ]
  },
  {
   "cell_type": "code",
   "execution_count": 53,
   "id": "b30a5fc8",
   "metadata": {
    "execution": {
     "iopub.execute_input": "2023-09-04T09:50:33.454576Z",
     "iopub.status.busy": "2023-09-04T09:50:33.454102Z",
     "iopub.status.idle": "2023-09-04T09:50:33.471626Z",
     "shell.execute_reply": "2023-09-04T09:50:33.470327Z"
    },
    "papermill": {
     "duration": 0.078773,
     "end_time": "2023-09-04T09:50:33.474572",
     "exception": false,
     "start_time": "2023-09-04T09:50:33.395799",
     "status": "completed"
    },
    "tags": []
   },
   "outputs": [],
   "source": [
    "reg_train_predictions=reg.predict(X_train)"
   ]
  },
  {
   "cell_type": "code",
   "execution_count": 54,
   "id": "d49c26da",
   "metadata": {
    "execution": {
     "iopub.execute_input": "2023-09-04T09:50:33.599547Z",
     "iopub.status.busy": "2023-09-04T09:50:33.599081Z",
     "iopub.status.idle": "2023-09-04T09:50:33.605875Z",
     "shell.execute_reply": "2023-09-04T09:50:33.605031Z"
    },
    "papermill": {
     "duration": 0.067571,
     "end_time": "2023-09-04T09:50:33.607984",
     "exception": false,
     "start_time": "2023-09-04T09:50:33.540413",
     "status": "completed"
    },
    "tags": []
   },
   "outputs": [
    {
     "data": {
      "text/plain": [
       "array([220547.90217654, 201405.71517061, 225586.42051962, ...,\n",
       "       247963.66604209, 150120.90082648, 153562.72466372])"
      ]
     },
     "execution_count": 54,
     "metadata": {},
     "output_type": "execute_result"
    }
   ],
   "source": [
    "reg_train_predictions"
   ]
  },
  {
   "cell_type": "code",
   "execution_count": 55,
   "id": "6223b73d",
   "metadata": {
    "execution": {
     "iopub.execute_input": "2023-09-04T09:50:33.685953Z",
     "iopub.status.busy": "2023-09-04T09:50:33.685281Z",
     "iopub.status.idle": "2023-09-04T09:50:33.694297Z",
     "shell.execute_reply": "2023-09-04T09:50:33.692992Z"
    },
    "papermill": {
     "duration": 0.052267,
     "end_time": "2023-09-04T09:50:33.698290",
     "exception": false,
     "start_time": "2023-09-04T09:50:33.646023",
     "status": "completed"
    },
    "tags": []
   },
   "outputs": [],
   "source": [
    "reg_test_predictions=reg.predict(test_data)"
   ]
  },
  {
   "cell_type": "code",
   "execution_count": 56,
   "id": "a3493da2",
   "metadata": {
    "execution": {
     "iopub.execute_input": "2023-09-04T09:50:33.824671Z",
     "iopub.status.busy": "2023-09-04T09:50:33.824259Z",
     "iopub.status.idle": "2023-09-04T09:50:33.830320Z",
     "shell.execute_reply": "2023-09-04T09:50:33.829483Z"
    },
    "papermill": {
     "duration": 0.067685,
     "end_time": "2023-09-04T09:50:33.832480",
     "exception": false,
     "start_time": "2023-09-04T09:50:33.764795",
     "status": "completed"
    },
    "tags": []
   },
   "outputs": [
    {
     "name": "stdout",
     "output_type": "stream",
     "text": [
      "Validation MSE for Random Forest Model: 226,499,550\n"
     ]
    }
   ],
   "source": [
    "reg_val_mae =mean_squared_error(Y_train,reg_train_predictions)\n",
    "print(\"Validation MSE for Random Forest Model: {:,.0f}\".format(gpr_val_mae))"
   ]
  },
  {
   "cell_type": "code",
   "execution_count": 57,
   "id": "adc6e283",
   "metadata": {
    "execution": {
     "iopub.execute_input": "2023-09-04T09:50:33.911244Z",
     "iopub.status.busy": "2023-09-04T09:50:33.910501Z",
     "iopub.status.idle": "2023-09-04T09:50:33.922224Z",
     "shell.execute_reply": "2023-09-04T09:50:33.921208Z"
    },
    "papermill": {
     "duration": 0.054254,
     "end_time": "2023-09-04T09:50:33.924971",
     "exception": false,
     "start_time": "2023-09-04T09:50:33.870717",
     "status": "completed"
    },
    "tags": []
   },
   "outputs": [],
   "source": [
    "outputREG = pd.DataFrame({'Id': test_data.Id,\n",
    "                       'SalePrice': reg_test_predictions})\n",
    "outputREG.to_csv('submissionREG.csv', index=False)"
   ]
  },
  {
   "cell_type": "code",
   "execution_count": 58,
   "id": "46ab9b91",
   "metadata": {
    "execution": {
     "iopub.execute_input": "2023-09-04T09:50:34.004853Z",
     "iopub.status.busy": "2023-09-04T09:50:34.004186Z",
     "iopub.status.idle": "2023-09-04T09:50:34.014971Z",
     "shell.execute_reply": "2023-09-04T09:50:34.014212Z"
    },
    "papermill": {
     "duration": 0.052915,
     "end_time": "2023-09-04T09:50:34.017113",
     "exception": false,
     "start_time": "2023-09-04T09:50:33.964198",
     "status": "completed"
    },
    "tags": []
   },
   "outputs": [
    {
     "data": {
      "text/html": [
       "<div>\n",
       "<style scoped>\n",
       "    .dataframe tbody tr th:only-of-type {\n",
       "        vertical-align: middle;\n",
       "    }\n",
       "\n",
       "    .dataframe tbody tr th {\n",
       "        vertical-align: top;\n",
       "    }\n",
       "\n",
       "    .dataframe thead th {\n",
       "        text-align: right;\n",
       "    }\n",
       "</style>\n",
       "<table border=\"1\" class=\"dataframe\">\n",
       "  <thead>\n",
       "    <tr style=\"text-align: right;\">\n",
       "      <th></th>\n",
       "      <th>Id</th>\n",
       "      <th>SalePrice</th>\n",
       "    </tr>\n",
       "  </thead>\n",
       "  <tbody>\n",
       "    <tr>\n",
       "      <th>0</th>\n",
       "      <td>1461</td>\n",
       "      <td>104042.343191</td>\n",
       "    </tr>\n",
       "    <tr>\n",
       "      <th>1</th>\n",
       "      <td>1462</td>\n",
       "      <td>151397.005545</td>\n",
       "    </tr>\n",
       "    <tr>\n",
       "      <th>2</th>\n",
       "      <td>1463</td>\n",
       "      <td>165148.193413</td>\n",
       "    </tr>\n",
       "    <tr>\n",
       "      <th>3</th>\n",
       "      <td>1464</td>\n",
       "      <td>183186.379644</td>\n",
       "    </tr>\n",
       "    <tr>\n",
       "      <th>4</th>\n",
       "      <td>1465</td>\n",
       "      <td>186376.411264</td>\n",
       "    </tr>\n",
       "    <tr>\n",
       "      <th>...</th>\n",
       "      <td>...</td>\n",
       "      <td>...</td>\n",
       "    </tr>\n",
       "    <tr>\n",
       "      <th>1454</th>\n",
       "      <td>2915</td>\n",
       "      <td>61521.349620</td>\n",
       "    </tr>\n",
       "    <tr>\n",
       "      <th>1455</th>\n",
       "      <td>2916</td>\n",
       "      <td>53757.983217</td>\n",
       "    </tr>\n",
       "    <tr>\n",
       "      <th>1456</th>\n",
       "      <td>2917</td>\n",
       "      <td>140247.458424</td>\n",
       "    </tr>\n",
       "    <tr>\n",
       "      <th>1457</th>\n",
       "      <td>2918</td>\n",
       "      <td>111247.917154</td>\n",
       "    </tr>\n",
       "    <tr>\n",
       "      <th>1458</th>\n",
       "      <td>2919</td>\n",
       "      <td>243668.984252</td>\n",
       "    </tr>\n",
       "  </tbody>\n",
       "</table>\n",
       "<p>1459 rows × 2 columns</p>\n",
       "</div>"
      ],
      "text/plain": [
       "        Id      SalePrice\n",
       "0     1461  104042.343191\n",
       "1     1462  151397.005545\n",
       "2     1463  165148.193413\n",
       "3     1464  183186.379644\n",
       "4     1465  186376.411264\n",
       "...    ...            ...\n",
       "1454  2915   61521.349620\n",
       "1455  2916   53757.983217\n",
       "1456  2917  140247.458424\n",
       "1457  2918  111247.917154\n",
       "1458  2919  243668.984252\n",
       "\n",
       "[1459 rows x 2 columns]"
      ]
     },
     "execution_count": 58,
     "metadata": {},
     "output_type": "execute_result"
    }
   ],
   "source": [
    "outputREG"
   ]
  },
  {
   "cell_type": "code",
   "execution_count": null,
   "id": "ca7d4394",
   "metadata": {
    "papermill": {
     "duration": 0.037816,
     "end_time": "2023-09-04T09:50:34.095299",
     "exception": false,
     "start_time": "2023-09-04T09:50:34.057483",
     "status": "completed"
    },
    "tags": []
   },
   "outputs": [],
   "source": []
  }
 ],
 "kernelspec": {
  "display_name": "Python 3",
  "language": "python",
  "name": "python3"
 },
 "language_info": {
  "codemirror_mode": {
   "name": "ipython",
   "version": 3
  },
  "file_extension": ".py",
  "mimetype": "text/x-python",
  "name": "python",
  "nbconvert_exporter": "python",
  "pygments_lexer": "ipython3",
  "version": "3.6.4"
 },
 "metadata": {
  "kernelspec": {
   "display_name": "Python 3",
   "language": "python",
   "name": "python3"
  },
  "language_info": {
   "codemirror_mode": {
    "name": "ipython",
    "version": 3
   },
   "file_extension": ".py",
   "mimetype": "text/x-python",
   "name": "python",
   "nbconvert_exporter": "python",
   "pygments_lexer": "ipython3",
   "version": "3.10.12"
  },
  "papermill": {
   "default_parameters": {},
   "duration": 39.521095,
   "end_time": "2023-09-04T09:50:36.959580",
   "environment_variables": {},
   "exception": null,
   "input_path": "__notebook__.ipynb",
   "output_path": "__notebook__.ipynb",
   "parameters": {},
   "start_time": "2023-09-04T09:49:57.438485",
   "version": "2.4.0"
  }
 },
 "nbformat": 4,
 "nbformat_minor": 5
}
